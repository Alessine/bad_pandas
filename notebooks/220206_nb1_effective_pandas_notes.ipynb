{
 "cells": [
  {
   "cell_type": "markdown",
   "id": "6c18b651-db0a-43ac-884a-85d2cd782764",
   "metadata": {},
   "source": [
    "<a id='Q0'></a>\n",
    "<center> <h1> Notebook 1: Effective Pandas - Notes and Exercises </h1> </center>\n",
    "<p style=\"margin-bottom:1cm;\"></p>\n",
    "<center><strong>Angela Niederberger, 2022</strong></center>\n",
    "<p style=\"margin-bottom:1cm;\"></p>\n",
    "\n",
    "<div style=\"background:#EEEDF5;border-top:0.1cm solid #EF475B;border-bottom:0.1cm solid #EF475B;\">\n",
    "    <div style=\"margin-left: 0.5cm;margin-top: 0.5cm;margin-bottom: 0.5cm;color:#303030\">\n",
    "        <p><strong>Goal:</strong> Study notes, exercises and learnings from the book 'Effective Pandas' by Matt Harrison</p>\n",
    "        <strong> Outline:</strong>\n",
    "        <a id='P0' name=\"P0\"></a>\n",
    "        <ul>\n",
    "            <li> <a style=\"color:#303030\" href='#SU'>Set up</a></li>\n",
    "            <li> <a style=\"color:#303030\" href='#P1'>Chapter 1: Introduction</a></li>\n",
    "            <li> <a style=\"color:#303030\" href='#P2'>Chapter 2: Installation</a></li>\n",
    "            <li> <a style=\"color:#303030\" href='#P3'>Chapter 3: Data Structures</a></li>\n",
    "            <li> <a style=\"color:#303030\" href='#P4'>Chapter 4: Series Introduction</a></li>\n",
    "            <li> <a style=\"color:#303030\" href='#P5'>Chapter 5: Series Deep Dive</a></li>\n",
    "            <li> <a style=\"color:#303030\" href='#P6'>Chapter 6: Operators (& Dunder Methods)</a></li>\n",
    "            <li> <a style=\"color:#303030\" href='#P7'>Chapter 7: Aggregate Methods</a></li>\n",
    "            <li> <a style=\"color:#303030\" href='#P8'>Chapter 8: Conversion Methods</a></li>\n",
    "            <li> <a style=\"color:#303030\" href='#P9'>Chapter 9: Manipulation Methods</a></li>\n",
    "            <li> <a style=\"color:#303030\" href='#P10'>Chapter 10: Indexing Operations</a></li>\n",
    "            <li> <a style=\"color:#303030\" href='#P11'>Chapter 11: String Manipulation</a></li>\n",
    "            <li> <a style=\"color:#303030\" href='#P12'>Chapter 12: Date and Time Manipulation</a></li>\n",
    "        </ul>\n",
    "        <strong>Keywords:</strong> python, pandas, good practice, study notes\n",
    "    </div>\n",
    "</div>\n",
    "</nav>"
   ]
  },
  {
   "cell_type": "markdown",
   "id": "8121d77a-17dd-46e0-91e5-56305d4d86c7",
   "metadata": {},
   "source": [
    "<a id='SU' name=\"SU\"></a>\n",
    "## [Set up](#P0)\n",
    "\n",
    "These study notes are based on the book **Effective Pandas** by [Matt Harrison](https://github.com/mattharrison). If you want to learn more, get your copy [here](https://store.metasnake.com/effective-pandas-book).\n",
    "\n",
    "<img src=\"../reports/img/book_cover.jpg\" width=300/>"
   ]
  },
  {
   "cell_type": "markdown",
   "id": "dfddb539-9889-4e76-aea4-27d028184459",
   "metadata": {},
   "source": [
    "### Packages"
   ]
  },
  {
   "cell_type": "code",
   "execution_count": 1,
   "id": "af8df873-2104-46bc-859f-542fc3fa772b",
   "metadata": {},
   "outputs": [],
   "source": [
    "import pandas as pd\n",
    "import numpy as np\n",
    "import copy"
   ]
  },
  {
   "cell_type": "markdown",
   "id": "ccc04eaf-7af1-4e52-9e49-a48b99720e22",
   "metadata": {},
   "source": [
    "### Data"
   ]
  },
  {
   "cell_type": "code",
   "execution_count": 2,
   "id": "c89ce936-b45e-482c-8a48-a5c316ef513c",
   "metadata": {},
   "outputs": [],
   "source": [
    "url = \"https://github.com/mattharrison/datasets/raw/master/data/vehicles.csv.zip\"\n",
    "df = pd.read_csv(url, low_memory=False)\n",
    "city_mpg = df[\"city08\"]\n",
    "highway_mpg = df[\"highway08\"]"
   ]
  },
  {
   "cell_type": "markdown",
   "id": "c6a41868-4f2c-458b-a1db-d7ebae84f904",
   "metadata": {},
   "source": [
    "<a id='P1'></a>\n",
    "## [Chapter 1: Introduction](#P0)"
   ]
  },
  {
   "cell_type": "markdown",
   "id": "d7307065-4308-47de-ab24-7469171706f5",
   "metadata": {},
   "source": [
    "<a id='P2'></a>\n",
    "## [Chapter 2: Installation](#P0)"
   ]
  },
  {
   "cell_type": "markdown",
   "id": "6ca87ba6-9616-4446-9e34-3e2f84d758e5",
   "metadata": {},
   "source": [
    "<a id='P3'></a>\n",
    "## [Chapter 3: Data Structures](#P0)"
   ]
  },
  {
   "cell_type": "markdown",
   "id": "43ac7cfb-0677-4344-a005-181465693f3b",
   "metadata": {},
   "source": [
    "### Notes"
   ]
  },
  {
   "cell_type": "markdown",
   "id": "6b8e8bc4-8002-4c81-8e37-9749a2fa9799",
   "metadata": {},
   "source": [
    "### Exercises"
   ]
  },
  {
   "cell_type": "markdown",
   "id": "0f7625ce-23e9-46d1-bd13-cf72754d61d1",
   "metadata": {},
   "source": [
    "<a id='P4'></a>\n",
    "## [Chapter 4: Series Introduction](#P0)"
   ]
  },
  {
   "cell_type": "markdown",
   "id": "a786bcbb-0476-490c-85b4-907a7bbb4c05",
   "metadata": {},
   "source": [
    "### Notes"
   ]
  },
  {
   "cell_type": "markdown",
   "id": "7e6596a0-3ace-4fb1-b365-58393653acae",
   "metadata": {},
   "source": [
    "### Exercises"
   ]
  },
  {
   "cell_type": "markdown",
   "id": "fb96acd7-a03e-4f3c-9c5b-1969f695a7ba",
   "metadata": {},
   "source": [
    "1. Using Jupyter, create a series with the temperature values for the last seven days. Filter out the values below the mean."
   ]
  },
  {
   "cell_type": "code",
   "execution_count": 3,
   "id": "fc1911dd-eb45-4175-bb93-5f295d827c69",
   "metadata": {},
   "outputs": [
    {
     "name": "stdout",
     "output_type": "stream",
     "text": [
      "0.6428571428571429\n"
     ]
    }
   ],
   "source": [
    "temp_values = pd.Series([-3.0, -1.5, 3, 0, 2, 5, -1])\n",
    "print(temp_values.mean())"
   ]
  },
  {
   "cell_type": "code",
   "execution_count": 4,
   "id": "aed22522-8df2-43c2-aaef-742bb0447355",
   "metadata": {},
   "outputs": [
    {
     "data": {
      "text/plain": [
       "0   -3.0\n",
       "1   -1.5\n",
       "3    0.0\n",
       "6   -1.0\n",
       "dtype: float64"
      ]
     },
     "execution_count": 4,
     "metadata": {},
     "output_type": "execute_result"
    }
   ],
   "source": [
    "temp_values[temp_values<temp_values.mean()]"
   ]
  },
  {
   "cell_type": "markdown",
   "id": "0b80efb5-dd53-4fb8-8173-1f41eaea2b3f",
   "metadata": {},
   "source": [
    "2. Using Jupyter, create a series with your favorite colors. Use a categorical type."
   ]
  },
  {
   "cell_type": "code",
   "execution_count": 5,
   "id": "0b93262a-20ec-41b5-a1c8-13a4c937c79c",
   "metadata": {},
   "outputs": [
    {
     "data": {
      "text/plain": [
       "0         blue\n",
       "1       yellow\n",
       "2    turquoise\n",
       "dtype: category\n",
       "Categories (3, object): ['blue', 'turquoise', 'yellow']"
      ]
     },
     "execution_count": 5,
     "metadata": {},
     "output_type": "execute_result"
    }
   ],
   "source": [
    "fav_colors = pd.Series([\"blue\", \"yellow\", \"turquoise\"], dtype=\"category\")\n",
    "fav_colors"
   ]
  },
  {
   "cell_type": "markdown",
   "id": "008a0223-1f3c-4793-92ce-c4702422e484",
   "metadata": {},
   "source": [
    "<a id='P5'></a>\n",
    "## [Chapter 5: Series Deep Dive](#P0)"
   ]
  },
  {
   "cell_type": "markdown",
   "id": "c5d184cf-e63b-4032-b688-82ff6f80a541",
   "metadata": {},
   "source": [
    "### Notes\n",
    "\n",
    "We can check out the attributes of a specific object by using ``dir()``."
   ]
  },
  {
   "cell_type": "code",
   "execution_count": 6,
   "id": "f40aca98-a122-42c6-a526-0dcc602e5fc7",
   "metadata": {},
   "outputs": [
    {
     "data": {
      "text/plain": [
       "0        19\n",
       "1         9\n",
       "2        23\n",
       "3        10\n",
       "4        17\n",
       "         ..\n",
       "41139    19\n",
       "41140    20\n",
       "41141    18\n",
       "41142    18\n",
       "41143    16\n",
       "Name: city08, Length: 41144, dtype: int64"
      ]
     },
     "execution_count": 6,
     "metadata": {},
     "output_type": "execute_result"
    }
   ],
   "source": [
    "city_mpg"
   ]
  },
  {
   "cell_type": "code",
   "execution_count": 7,
   "id": "61cb5d8d-05fa-40a1-b64f-68d6a4c0c336",
   "metadata": {},
   "outputs": [
    {
     "data": {
      "text/plain": [
       "420"
      ]
     },
     "execution_count": 7,
     "metadata": {},
     "output_type": "execute_result"
    }
   ],
   "source": [
    "len(dir(city_mpg))"
   ]
  },
  {
   "cell_type": "markdown",
   "id": "392fa7e3-f01f-4701-a643-d0984975fc77",
   "metadata": {},
   "source": [
    "### Exercises"
   ]
  },
  {
   "cell_type": "markdown",
   "id": "cdb06de5-795a-4131-abc7-6317130d6837",
   "metadata": {},
   "source": [
    "1. Explore the documentation for five attributes of a series from Jupyter."
   ]
  },
  {
   "cell_type": "code",
   "execution_count": 8,
   "id": "5c78561c-f148-4951-9888-c586adeceb97",
   "metadata": {},
   "outputs": [
    {
     "data": {
      "text/plain": [
       "0       -81\n",
       "1       -91\n",
       "2       -77\n",
       "3       -90\n",
       "4       -83\n",
       "         ..\n",
       "41139   -81\n",
       "41140   -80\n",
       "41141   -82\n",
       "41142   -82\n",
       "41143   -84\n",
       "Name: city08, Length: 41144, dtype: int64"
      ]
     },
     "execution_count": 8,
     "metadata": {},
     "output_type": "execute_result"
    }
   ],
   "source": [
    "city_mpg.add(-100)"
   ]
  },
  {
   "cell_type": "code",
   "execution_count": 9,
   "id": "3520fb76-b16b-4abe-baca-7622b85bbe99",
   "metadata": {},
   "outputs": [
    {
     "data": {
      "text/plain": [
       "0.29762739792527215"
      ]
     },
     "execution_count": 9,
     "metadata": {},
     "output_type": "execute_result"
    }
   ],
   "source": [
    "# Compute correlation between series and itself shifted by i\n",
    "\n",
    "city_mpg.autocorr(2)"
   ]
  },
  {
   "cell_type": "code",
   "execution_count": 10,
   "id": "cc16f6b1-f772-4f4d-a425-f8514392e26d",
   "metadata": {},
   "outputs": [
    {
     "data": {
      "text/plain": [
       "0.939365413064056"
      ]
     },
     "execution_count": 10,
     "metadata": {},
     "output_type": "execute_result"
    }
   ],
   "source": [
    "# Compute correlation with another series\n",
    "\n",
    "city_mpg.corr(highway_mpg)"
   ]
  },
  {
   "cell_type": "code",
   "execution_count": 11,
   "id": "05c1c074-11e9-4245-b6c6-838bb466dd49",
   "metadata": {},
   "outputs": [
    {
     "data": {
      "text/plain": [
       "0        4.358899\n",
       "1        3.000000\n",
       "2        4.795832\n",
       "3        3.162278\n",
       "4        4.123106\n",
       "           ...   \n",
       "41139    4.358899\n",
       "41140    4.472136\n",
       "41141    4.242641\n",
       "41142    4.242641\n",
       "41143    4.000000\n",
       "Name: city08, Length: 41144, dtype: float64"
      ]
     },
     "execution_count": 11,
     "metadata": {},
     "output_type": "execute_result"
    }
   ],
   "source": [
    "# apply a function on the series\n",
    "\n",
    "city_mpg.transform(\"sqrt\")"
   ]
  },
  {
   "cell_type": "code",
   "execution_count": 12,
   "id": "69a378e6-059b-42d7-9362-45933ca2196f",
   "metadata": {},
   "outputs": [
    {
     "data": {
      "text/plain": [
       "1        9\n",
       "66      16\n",
       "3987    15\n",
       "Name: city08, dtype: int64"
      ]
     },
     "execution_count": 12,
     "metadata": {},
     "output_type": "execute_result"
    }
   ],
   "source": [
    "# index according to position\n",
    "\n",
    "city_mpg.take([1, 66, 3987])"
   ]
  },
  {
   "cell_type": "code",
   "execution_count": 13,
   "id": "739a7116-c760-4fcb-ab94-2c35beed020a",
   "metadata": {},
   "outputs": [
    {
     "data": {
      "text/plain": [
       "False"
      ]
     },
     "execution_count": 13,
     "metadata": {},
     "output_type": "execute_result"
    }
   ],
   "source": [
    "# Check if Series is monotonically increasing\n",
    "\n",
    "city_mpg.is_monotonic"
   ]
  },
  {
   "cell_type": "code",
   "execution_count": 14,
   "id": "b83b317d-c8c8-4f00-9aa2-7d569f5f9cb2",
   "metadata": {},
   "outputs": [
    {
     "name": "stdout",
     "output_type": "stream",
     "text": [
      "105, same as 105\n"
     ]
    }
   ],
   "source": [
    "# method that counts number of unique values\n",
    "print(f\"{city_mpg.nunique()}, same as {len(city_mpg.unique())}\")"
   ]
  },
  {
   "cell_type": "markdown",
   "id": "b0fef11c-80d0-4c8f-bf15-640d48d5a259",
   "metadata": {},
   "source": [
    "2. How many attributes are found on the ``.str`` attribute? Look at the documentation for three of them."
   ]
  },
  {
   "cell_type": "code",
   "execution_count": 15,
   "id": "d93b7cb3-06ff-406b-923b-487938951857",
   "metadata": {},
   "outputs": [
    {
     "data": {
      "text/plain": [
       "99"
      ]
     },
     "execution_count": 15,
     "metadata": {},
     "output_type": "execute_result"
    }
   ],
   "source": [
    "len(dir(fav_colors.str))"
   ]
  },
  {
   "cell_type": "code",
   "execution_count": 16,
   "id": "3dcbe205-d53c-4c98-bb99-4e78cc5ebbbc",
   "metadata": {},
   "outputs": [
    {
     "data": {
      "text/plain": [
       "0    False\n",
       "1    False\n",
       "2     True\n",
       "dtype: bool"
      ]
     },
     "execution_count": 16,
     "metadata": {},
     "output_type": "execute_result"
    }
   ],
   "source": [
    "fav_colors.str.startswith(\"t\")"
   ]
  },
  {
   "cell_type": "code",
   "execution_count": 17,
   "id": "a50f2d31-92e3-4104-8bf3-48e468e4a5f1",
   "metadata": {},
   "outputs": [
    {
     "name": "stdout",
     "output_type": "stream",
     "text": [
      "blue\n",
      "yellow\n",
      "turquoi\n",
      "se\n"
     ]
    }
   ],
   "source": [
    "# Add linebreaks after certain number of characters\n",
    "\n",
    "for col in fav_colors.str.wrap(7):\n",
    "    print(col)"
   ]
  },
  {
   "cell_type": "code",
   "execution_count": 18,
   "id": "a509fac2-6da1-4113-b95a-346522b9d586",
   "metadata": {},
   "outputs": [
    {
     "data": {
      "text/html": [
       "<div>\n",
       "<style scoped>\n",
       "    .dataframe tbody tr th:only-of-type {\n",
       "        vertical-align: middle;\n",
       "    }\n",
       "\n",
       "    .dataframe tbody tr th {\n",
       "        vertical-align: top;\n",
       "    }\n",
       "\n",
       "    .dataframe thead th {\n",
       "        text-align: right;\n",
       "    }\n",
       "</style>\n",
       "<table border=\"1\" class=\"dataframe\">\n",
       "  <thead>\n",
       "    <tr style=\"text-align: right;\">\n",
       "      <th></th>\n",
       "      <th>0</th>\n",
       "      <th>1</th>\n",
       "      <th>2</th>\n",
       "    </tr>\n",
       "  </thead>\n",
       "  <tbody>\n",
       "    <tr>\n",
       "      <th>0</th>\n",
       "      <td>bl</td>\n",
       "      <td>u</td>\n",
       "      <td>e</td>\n",
       "    </tr>\n",
       "    <tr>\n",
       "      <th>1</th>\n",
       "      <td></td>\n",
       "      <td></td>\n",
       "      <td>yellow</td>\n",
       "    </tr>\n",
       "    <tr>\n",
       "      <th>2</th>\n",
       "      <td>turq</td>\n",
       "      <td>u</td>\n",
       "      <td>oise</td>\n",
       "    </tr>\n",
       "  </tbody>\n",
       "</table>\n",
       "</div>"
      ],
      "text/plain": [
       "      0  1       2\n",
       "0    bl  u       e\n",
       "1           yellow\n",
       "2  turq  u    oise"
      ]
     },
     "execution_count": 18,
     "metadata": {},
     "output_type": "execute_result"
    }
   ],
   "source": [
    "# Split strings at last occurrence of separator\n",
    "\n",
    "fav_colors.str.rpartition(\"u\")"
   ]
  },
  {
   "cell_type": "code",
   "execution_count": 19,
   "id": "8820d03b-b973-4871-8ca4-c55732d6d6bd",
   "metadata": {},
   "outputs": [
    {
     "data": {
      "text/plain": [
       "0              b-l-u-e\n",
       "1          y-e-l-l-o-w\n",
       "2    t-u-r-q-u-o-i-s-e\n",
       "dtype: object"
      ]
     },
     "execution_count": 19,
     "metadata": {},
     "output_type": "execute_result"
    }
   ],
   "source": [
    "fav_colors.str.join(\"-\")"
   ]
  },
  {
   "cell_type": "markdown",
   "id": "2f55bfb7-e41d-43eb-a8eb-7bde26aeec4e",
   "metadata": {},
   "source": [
    "3. How many attributes are found on the ``.dt`` attribute? Look at the documentation for three of them."
   ]
  },
  {
   "cell_type": "code",
   "execution_count": 20,
   "id": "7f9d9ac5-d6ca-4396-a1b8-3d9b41de1894",
   "metadata": {},
   "outputs": [
    {
     "name": "stderr",
     "output_type": "stream",
     "text": [
      "/home/angela/anaconda3/envs/effective_pandas/lib/python3.8/site-packages/pandas/core/dtypes/cast.py:1619: UserWarning: Parsing '14.04.1987' in DD/MM/YYYY format. Provide format or specify infer_datetime_format=True for consistent parsing.\n",
      "  dta = sequence_to_datetimes(value)\n",
      "/home/angela/anaconda3/envs/effective_pandas/lib/python3.8/site-packages/pandas/core/dtypes/cast.py:1619: UserWarning: Parsing '26.12.1977' in DD/MM/YYYY format. Provide format or specify infer_datetime_format=True for consistent parsing.\n",
      "  dta = sequence_to_datetimes(value)\n"
     ]
    }
   ],
   "source": [
    "dates = pd.Series([\"01.01.2021\", \"14.04.1987\", \"26.12.1977\"], dtype = \"datetime64[ns]\")"
   ]
  },
  {
   "cell_type": "code",
   "execution_count": 21,
   "id": "dc6566bb-5aeb-4e35-ab11-0f7881867972",
   "metadata": {},
   "outputs": [
    {
     "data": {
      "text/plain": [
       "83"
      ]
     },
     "execution_count": 21,
     "metadata": {},
     "output_type": "execute_result"
    }
   ],
   "source": [
    "len(dir(dates.dt))"
   ]
  },
  {
   "cell_type": "code",
   "execution_count": 22,
   "id": "e0116018-17dc-4fa8-aa1a-205e279b9064",
   "metadata": {},
   "outputs": [
    {
     "data": {
      "text/plain": [
       "0     1\n",
       "1     4\n",
       "2    12\n",
       "dtype: int64"
      ]
     },
     "execution_count": 22,
     "metadata": {},
     "output_type": "execute_result"
    }
   ],
   "source": [
    "# month property\n",
    "dates.dt.month"
   ]
  },
  {
   "cell_type": "code",
   "execution_count": 23,
   "id": "f3403a9f-9b68-4223-95e9-080b8ab36560",
   "metadata": {},
   "outputs": [
    {
     "data": {
      "text/plain": [
       "0     Friday\n",
       "1    Tuesday\n",
       "2     Monday\n",
       "dtype: object"
      ]
     },
     "execution_count": 23,
     "metadata": {},
     "output_type": "execute_result"
    }
   ],
   "source": [
    "# method that returns names of weekdays\n",
    "dates.dt.day_name()"
   ]
  },
  {
   "cell_type": "code",
   "execution_count": 24,
   "id": "f866903e-0703-47be-8fad-7b085f8de434",
   "metadata": {},
   "outputs": [
    {
     "data": {
      "text/plain": [
       "0     True\n",
       "1    False\n",
       "2    False\n",
       "dtype: bool"
      ]
     },
     "execution_count": 24,
     "metadata": {},
     "output_type": "execute_result"
    }
   ],
   "source": [
    "# month start property\n",
    "dates.dt.is_month_start"
   ]
  },
  {
   "cell_type": "code",
   "execution_count": 25,
   "id": "13d66bd0-d688-4944-abe9-f79332893c5c",
   "metadata": {},
   "outputs": [
    {
     "data": {
      "text/plain": [
       "0    2021-01\n",
       "1    1987-04\n",
       "2    1977-12\n",
       "dtype: period[M]"
      ]
     },
     "execution_count": 25,
     "metadata": {},
     "output_type": "execute_result"
    }
   ],
   "source": [
    "# method that returns the corresponding time period\n",
    "dates.dt.to_period(\"M\")"
   ]
  },
  {
   "cell_type": "markdown",
   "id": "59b000ec-a014-4b6c-add6-f8be485b0977",
   "metadata": {},
   "source": [
    "<a id='P6'></a>\n",
    "## [Chapter 6: Operators (& Dunder Methods)](#P0)"
   ]
  },
  {
   "cell_type": "markdown",
   "id": "ff05a37a-a0b5-4271-bdba-835a6390f102",
   "metadata": {},
   "source": [
    "### Notes\n",
    "\n",
    "In pure Python, there's a thing called **Dunder Methods** which start and end with a double underscore (e.g. `.__add__`). Pandas Series have some of these methods as well. Therefore they support operations such as division.\n",
    "\n",
    "To use such methods on two series together (e.g. `Series_1 + Series_2`), they need to have indexes that are **unique** and **common** to both series. The operation is then broadcast to the entire series at once (vectorization), which is very efficient.\n",
    "\n",
    "There is also a `.__iter__` method that can be used to loop through a series. However, this is usually not recommended, since there are more efficient ways to do most things.\n",
    "\n",
    "Pandas also provides **Operator Methods** (`s1.add(s2)`) besides the pure Python ones (`s1+s2`). There it is possible to specify additional parameters, e.g. `fill_value=0` instead of the default `NA`. Also, operator methods can be chained together (`s1.add(s2, fill_value=0).div(2)`), which is very useful and readable. Basically all common arithmetic and boolean operations are available as pandas methods."
   ]
  },
  {
   "cell_type": "markdown",
   "id": "edbdb0ce-8c04-4e86-8b80-c7ac58bcee4a",
   "metadata": {},
   "source": [
    "### Exercises\n",
    "\n",
    "With a dataset of your choice:"
   ]
  },
  {
   "cell_type": "code",
   "execution_count": 26,
   "id": "e8a2cb8f-9530-4233-9719-8badbe47b6d6",
   "metadata": {},
   "outputs": [],
   "source": [
    "url = \"https://github.com/mattharrison/datasets/raw/master/data/vehicles.csv.zip\"\n",
    "df = pd.read_csv(url, low_memory=False)\n",
    "city_mpg = df[\"city08\"]\n",
    "highway_mpg = df[\"highway08\"]"
   ]
  },
  {
   "cell_type": "markdown",
   "id": "ca6ac283-e0d4-4524-b801-ee58db3d8aa4",
   "metadata": {},
   "source": [
    "1. Add a numeric series to itself."
   ]
  },
  {
   "cell_type": "code",
   "execution_count": 27,
   "id": "6e674d8d-4eae-45f3-a69b-35c4a24480a8",
   "metadata": {},
   "outputs": [
    {
     "data": {
      "text/plain": [
       "0    19\n",
       "1     9\n",
       "2    23\n",
       "3    10\n",
       "4    17\n",
       "Name: city08, dtype: int64"
      ]
     },
     "execution_count": 27,
     "metadata": {},
     "output_type": "execute_result"
    }
   ],
   "source": [
    "city_mpg.head()"
   ]
  },
  {
   "cell_type": "code",
   "execution_count": 28,
   "id": "6fb41ebb-106d-4c28-8d5a-ff09c45bb048",
   "metadata": {},
   "outputs": [
    {
     "data": {
      "text/plain": [
       "0        38\n",
       "1        18\n",
       "2        46\n",
       "3        20\n",
       "4        34\n",
       "         ..\n",
       "41139    38\n",
       "41140    40\n",
       "41141    36\n",
       "41142    36\n",
       "41143    32\n",
       "Name: city08, Length: 41144, dtype: int64"
      ]
     },
     "execution_count": 28,
     "metadata": {},
     "output_type": "execute_result"
    }
   ],
   "source": [
    "city_mpg + city_mpg"
   ]
  },
  {
   "cell_type": "markdown",
   "id": "78aa9143-2854-47ba-b342-ca63fd7d6571",
   "metadata": {},
   "source": [
    "2. Add 10 to a numeric series."
   ]
  },
  {
   "cell_type": "code",
   "execution_count": 29,
   "id": "b125df9d-aae8-4a74-8254-d2af94d8dc35",
   "metadata": {},
   "outputs": [
    {
     "data": {
      "text/plain": [
       "0        29\n",
       "1        19\n",
       "2        33\n",
       "3        20\n",
       "4        27\n",
       "         ..\n",
       "41139    29\n",
       "41140    30\n",
       "41141    28\n",
       "41142    28\n",
       "41143    26\n",
       "Name: city08, Length: 41144, dtype: int64"
      ]
     },
     "execution_count": 29,
     "metadata": {},
     "output_type": "execute_result"
    }
   ],
   "source": [
    "city_mpg + 10"
   ]
  },
  {
   "cell_type": "markdown",
   "id": "8eebf3c2-d1c9-46d5-aba8-274b5ee8977d",
   "metadata": {},
   "source": [
    "3. Add a numeric series to itself using the `.add` method."
   ]
  },
  {
   "cell_type": "code",
   "execution_count": 30,
   "id": "eb7dbcee-cebd-4410-938d-7ebc9be42b47",
   "metadata": {},
   "outputs": [
    {
     "data": {
      "text/plain": [
       "0    38\n",
       "1    18\n",
       "2    46\n",
       "3    20\n",
       "4    34\n",
       "Name: city08, dtype: int64"
      ]
     },
     "execution_count": 30,
     "metadata": {},
     "output_type": "execute_result"
    }
   ],
   "source": [
    "city_mpg.add(city_mpg).head()"
   ]
  },
  {
   "cell_type": "markdown",
   "id": "180701d4-76a3-4922-9246-3f14b63eb2f7",
   "metadata": {},
   "source": [
    "4. Read the documentation for the `.add` method."
   ]
  },
  {
   "cell_type": "markdown",
   "id": "bd606cbd-3b53-49d9-a311-de2319178ba8",
   "metadata": {},
   "source": [
    "<a id='P7'></a>\n",
    "## [Chapter 7: Aggregate Methods](#P0)"
   ]
  },
  {
   "cell_type": "markdown",
   "id": "8effc4a7-792f-49f5-a5a0-eae485a43937",
   "metadata": {},
   "source": [
    "### Notes\n",
    "\n",
    "There are aggregate methods (e.g. `.mean()`) which return a scalar and aggregate properties (e.g. `.is_unique`) which return a boolean.\n",
    "\n",
    "A couple of useful tricks:\n",
    "- We can filter with boolean methods (see previous chapter) and then count with `.sum()` or get the percentage with `.mul(100).mean()`."
   ]
  },
  {
   "cell_type": "code",
   "execution_count": 31,
   "id": "75f3265b-4dfe-4b0d-b252-12a086822ab3",
   "metadata": {},
   "outputs": [
    {
     "name": "stdout",
     "output_type": "stream",
     "text": [
      "10272\n",
      "24.965973167412017 %\n"
     ]
    }
   ],
   "source": [
    "# How many cars have city mpg greater than 20?\n",
    "print(city_mpg.gt(20).sum())\n",
    "print(city_mpg.gt(20).mul(100).mean(), \"%\")"
   ]
  },
  {
   "cell_type": "markdown",
   "id": "317ec0fb-c60f-46b4-a86e-f6f78979053f",
   "metadata": {},
   "source": [
    "- `.quantile()` returns the median (50% quantile) by default, but it also accepts a list of levels and returns a series."
   ]
  },
  {
   "cell_type": "code",
   "execution_count": 32,
   "id": "1f208c32-58dc-49de-9100-54111cf5943b",
   "metadata": {},
   "outputs": [
    {
     "name": "stdout",
     "output_type": "stream",
     "text": [
      "17.0\n",
      "Levels:\n",
      " 0.1    13.0\n",
      "0.5    17.0\n",
      "0.9    24.0\n",
      "Name: city08, dtype: float64\n"
     ]
    }
   ],
   "source": [
    "print(city_mpg.quantile())\n",
    "print(\"Levels:\\n\", city_mpg.quantile([0.1, 0.5, 0.9]))"
   ]
  },
  {
   "cell_type": "markdown",
   "id": "81e35fb4-625f-4cf3-befe-5720583b058a",
   "metadata": {},
   "source": [
    "- `.agg()` accepts a list of aggregation functions (can be pandas, pure python, numpy, own,...) and returns a series."
   ]
  },
  {
   "cell_type": "code",
   "execution_count": 33,
   "id": "69e258ef-aeca-4784-af37-a31476f53faf",
   "metadata": {},
   "outputs": [
    {
     "name": "stdout",
     "output_type": "stream",
     "text": [
      "mean                   18.369045\n",
      "max                   150.000000\n",
      "var                    62.503036\n",
      "return_second_last     18.000000\n",
      "Name: city08, dtype: float64\n"
     ]
    }
   ],
   "source": [
    "import numpy as np\n",
    "\n",
    "def return_second_last(series):\n",
    "    return series.iloc[-2]\n",
    "\n",
    "print(city_mpg.agg([\"mean\", max, np.var, return_second_last]))"
   ]
  },
  {
   "cell_type": "markdown",
   "id": "338d406d-aa38-4a44-b880-2c714c3ec070",
   "metadata": {},
   "source": [
    "### Exercises\n",
    "\n",
    "With a dataset of your choice:"
   ]
  },
  {
   "cell_type": "code",
   "execution_count": 34,
   "id": "f8288ee3-ce35-4ac7-a927-0bf7abbf3be5",
   "metadata": {},
   "outputs": [],
   "source": [
    "url = \"https://github.com/mattharrison/datasets/raw/master/data/vehicles.csv.zip\"\n",
    "df = pd.read_csv(url, low_memory=False)\n",
    "city_mpg = df[\"city08\"]\n",
    "highway_mpg = df[\"highway08\"]"
   ]
  },
  {
   "cell_type": "markdown",
   "id": "3fe73f05-7bbb-4eb2-994f-0c7f41ffbb3d",
   "metadata": {},
   "source": [
    "1. Find the count of non-missing values of a series."
   ]
  },
  {
   "cell_type": "code",
   "execution_count": 35,
   "id": "254a7842-af7f-4101-8cbe-4ce35288bf03",
   "metadata": {},
   "outputs": [
    {
     "data": {
      "text/plain": [
       "41144"
      ]
     },
     "execution_count": 35,
     "metadata": {},
     "output_type": "execute_result"
    }
   ],
   "source": [
    "# Count ignores missing values\n",
    "highway_mpg.count()"
   ]
  },
  {
   "cell_type": "code",
   "execution_count": 36,
   "id": "7368fbd3-7461-4183-9397-16861c2b6721",
   "metadata": {},
   "outputs": [
    {
     "data": {
      "text/plain": [
       "0"
      ]
     },
     "execution_count": 36,
     "metadata": {},
     "output_type": "execute_result"
    }
   ],
   "source": [
    "# There are none anyway\n",
    "highway_mpg.isna().sum()"
   ]
  },
  {
   "cell_type": "code",
   "execution_count": 37,
   "id": "20ed5c2b-0f2e-45b9-8560-574ef36f9751",
   "metadata": {},
   "outputs": [
    {
     "data": {
      "text/plain": [
       "False"
      ]
     },
     "execution_count": 37,
     "metadata": {},
     "output_type": "execute_result"
    }
   ],
   "source": [
    "highway_mpg.hasnans"
   ]
  },
  {
   "cell_type": "markdown",
   "id": "5cc436a3-eee3-4cf9-822a-96160bc9d3a6",
   "metadata": {},
   "source": [
    "2. Find the number of entries of a series."
   ]
  },
  {
   "cell_type": "code",
   "execution_count": 38,
   "id": "7aea83de-d841-449d-a368-3a315ec2cb67",
   "metadata": {},
   "outputs": [
    {
     "data": {
      "text/plain": [
       "41144"
      ]
     },
     "execution_count": 38,
     "metadata": {},
     "output_type": "execute_result"
    }
   ],
   "source": [
    "highway_mpg.size"
   ]
  },
  {
   "cell_type": "code",
   "execution_count": 39,
   "id": "842b449d-bf99-4596-99d7-22e2e0ccab4b",
   "metadata": {},
   "outputs": [],
   "source": [
    "# Add a missing value\n",
    "highway_mpg_2 = pd.concat([highway_mpg, pd.Series([np.nan])])"
   ]
  },
  {
   "cell_type": "code",
   "execution_count": 40,
   "id": "a820d57b-aed9-489d-8354-46559a1e0a16",
   "metadata": {},
   "outputs": [
    {
     "name": "stdout",
     "output_type": "stream",
     "text": [
      "41144\n",
      "41145\n"
     ]
    }
   ],
   "source": [
    "# Check count and size again\n",
    "print(highway_mpg_2.count())\n",
    "print(highway_mpg_2.size)"
   ]
  },
  {
   "cell_type": "markdown",
   "id": "7b6c9482-1f98-4ec4-8136-149371dd485a",
   "metadata": {},
   "source": [
    "3. Find the number of unique entries of a series."
   ]
  },
  {
   "cell_type": "code",
   "execution_count": 41,
   "id": "28899d0e-5bdd-415e-82b9-74bf210c5ea3",
   "metadata": {},
   "outputs": [
    {
     "data": {
      "text/plain": [
       "92"
      ]
     },
     "execution_count": 41,
     "metadata": {},
     "output_type": "execute_result"
    }
   ],
   "source": [
    "highway_mpg.nunique()"
   ]
  },
  {
   "cell_type": "markdown",
   "id": "6171063a-63d7-4fb9-a125-6b168d514cde",
   "metadata": {},
   "source": [
    "4. Find the mean value of a series."
   ]
  },
  {
   "cell_type": "code",
   "execution_count": 42,
   "id": "d45a1e9d-a1e4-4d58-ab8a-c50867348164",
   "metadata": {},
   "outputs": [
    {
     "data": {
      "text/plain": [
       "24.504666537040638"
      ]
     },
     "execution_count": 42,
     "metadata": {},
     "output_type": "execute_result"
    }
   ],
   "source": [
    "highway_mpg.mean()"
   ]
  },
  {
   "cell_type": "markdown",
   "id": "04dc8c22-91fc-4be2-9d62-6146c88d936e",
   "metadata": {},
   "source": [
    "5. Find the maximum value of a series."
   ]
  },
  {
   "cell_type": "code",
   "execution_count": 43,
   "id": "2180fe21-2a1f-4f03-9e2b-cbc2c5739aef",
   "metadata": {},
   "outputs": [
    {
     "data": {
      "text/plain": [
       "124"
      ]
     },
     "execution_count": 43,
     "metadata": {},
     "output_type": "execute_result"
    }
   ],
   "source": [
    "highway_mpg.max()"
   ]
  },
  {
   "cell_type": "markdown",
   "id": "59963896-2f3b-455c-8806-8e7424205f1a",
   "metadata": {},
   "source": [
    "6. Use the `.agg` method to find all of the above."
   ]
  },
  {
   "cell_type": "code",
   "execution_count": 44,
   "id": "9aa9333c-eb7e-47ac-91a8-2deb1760f318",
   "metadata": {},
   "outputs": [
    {
     "data": {
      "text/plain": [
       "count      41144.000000\n",
       "size       41144.000000\n",
       "nunique       92.000000\n",
       "mean          24.504667\n",
       "max          124.000000\n",
       "Name: highway08, dtype: float64"
      ]
     },
     "execution_count": 44,
     "metadata": {},
     "output_type": "execute_result"
    }
   ],
   "source": [
    "highway_mpg.agg([\"count\", \"size\", \"nunique\", \"mean\", max])"
   ]
  },
  {
   "cell_type": "markdown",
   "id": "265c11be-17aa-4825-b3b0-b5154853500c",
   "metadata": {},
   "source": [
    "<a id='P8'></a>\n",
    "## [Chapter 8: Conversion Methods](#P0)"
   ]
  },
  {
   "cell_type": "markdown",
   "id": "263d7f9b-8e9a-4ca5-88cd-7f577a31ce8d",
   "metadata": {},
   "source": [
    "### Notes\n",
    "\n",
    "It is useful to have control over the type of data in a series. Using the correct type can save a lot of memory. These are the most relevant methods:\n",
    "\n",
    "- `.convert_dtypes()`: tries to convert data to a type that allows `pd.NA`\n",
    "- `.astype()`: convert to a specific type\n",
    "- `.nbytes` (property): gives the amount of memory that the data is using\n",
    "- `.memory_usage()`: includes also the *make* of the object (e.g. index) etc.\n",
    "\n",
    "Good to know:\n",
    "\n",
    "- Strings saved as strings use much more memory than strings saved as categories.\n",
    "- `.to_numpy()` or `.values` gives a numpy array, `.to_list` returns a python list. NumPy can sometimes speed up the code, while python lists tend to slow it down. `.to_frame()` turns a Series into a DataFrame.\n",
    "- For dates, using `.astype(dates)` is not recommended. `pd.to_datetime()` is far better."
   ]
  },
  {
   "cell_type": "markdown",
   "id": "e08969d4-2cc3-4e3e-b2c1-89c5890e4f6e",
   "metadata": {},
   "source": [
    "### Exercises\n",
    "\n",
    "With a dataset of your choice:"
   ]
  },
  {
   "cell_type": "code",
   "execution_count": 45,
   "id": "9afe47c7-9325-4331-95c0-f602073efab2",
   "metadata": {},
   "outputs": [],
   "source": [
    "url = \"https://github.com/mattharrison/datasets/raw/master/data/vehicles.csv.zip\"\n",
    "df = pd.read_csv(url, low_memory=False)\n",
    "city_mpg = df[\"city08\"]\n",
    "highway_mpg = df[\"highway08\"]"
   ]
  },
  {
   "cell_type": "markdown",
   "id": "be39080d-5852-4a47-bc92-fc15d3972dba",
   "metadata": {},
   "source": [
    "1. Convert a numeric column to a smaller type."
   ]
  },
  {
   "cell_type": "code",
   "execution_count": 46,
   "id": "bb22e06d-1b02-45a8-b5bc-6dde20d640f2",
   "metadata": {},
   "outputs": [],
   "source": [
    "city_mpg_32 = city_mpg.astype(\"int32\")"
   ]
  },
  {
   "cell_type": "markdown",
   "id": "4ce34c41-5d1b-4252-a4d8-c5f48f7bfabc",
   "metadata": {},
   "source": [
    "2. Calculate the memory savings by converting to smaller numeric types."
   ]
  },
  {
   "cell_type": "code",
   "execution_count": 47,
   "id": "f15d92d1-5bf3-40d7-8490-e0c343a89c38",
   "metadata": {},
   "outputs": [
    {
     "name": "stdout",
     "output_type": "stream",
     "text": [
      "Memory saved by conversion: 164576\n",
      "Memory saved by conversion (including make): 164576\n"
     ]
    }
   ],
   "source": [
    "print(\"Memory saved by conversion:\", city_mpg.nbytes - city_mpg_32.nbytes)\n",
    "print(\"Memory saved by conversion (including make):\", \n",
    "      city_mpg.memory_usage(deep=True) - city_mpg_32.memory_usage(deep=True))\n"
   ]
  },
  {
   "cell_type": "markdown",
   "id": "722eb677-473a-4e0c-8995-d86cc7fc12fd",
   "metadata": {},
   "source": [
    "3. Convert a string column into a categorical type."
   ]
  },
  {
   "cell_type": "code",
   "execution_count": 48,
   "id": "80ba2ea3-266a-4356-9e2f-a72cd9b7b32c",
   "metadata": {},
   "outputs": [],
   "source": [
    "strings_col = df[\"drive\"]\n",
    "cat_col = strings_col.astype(\"category\")"
   ]
  },
  {
   "cell_type": "markdown",
   "id": "4627e467-ae5c-4a0f-8670-582f0025066f",
   "metadata": {},
   "source": [
    "4. Calculate the memory savings by converting to a categorical type."
   ]
  },
  {
   "cell_type": "code",
   "execution_count": 49,
   "id": "3cdd2a66-74d3-4cc9-976c-ae28a8118df3",
   "metadata": {},
   "outputs": [
    {
     "name": "stdout",
     "output_type": "stream",
     "text": [
      "Memory saved by conversion: 287952\n",
      "Memory saved by conversion (including make): 2986403\n"
     ]
    }
   ],
   "source": [
    "print(\"Memory saved by conversion:\", strings_col.nbytes - cat_col.nbytes)\n",
    "print(\"Memory saved by conversion (including make):\", \n",
    "      strings_col.memory_usage(deep=True) - cat_col.memory_usage(deep=True))"
   ]
  },
  {
   "cell_type": "markdown",
   "id": "15c7d556-b964-4c92-a4c9-86bb090e4406",
   "metadata": {
    "tags": []
   },
   "source": [
    "<a id='P9'></a>\n",
    "## [Chapter 9: Manipulation Methods](#P0)"
   ]
  },
  {
   "cell_type": "markdown",
   "id": "24ad461b-28d3-4d7e-a6da-bf89ceb4ea99",
   "metadata": {},
   "source": [
    "### Notes\n",
    "\n",
    "- `.apply()`: allows you to apply a function element-wise to every value. Depending on what function it is used with, it can either be very useful or super slow. An example:"
   ]
  },
  {
   "cell_type": "code",
   "execution_count": 50,
   "id": "746d6045-c70e-422b-82a3-0d4ccd7f8e5b",
   "metadata": {},
   "outputs": [
    {
     "name": "stdout",
     "output_type": "stream",
     "text": [
      "3.69 ms ± 42.1 µs per loop (mean ± std. dev. of 7 runs, 100 loops each)\n"
     ]
    }
   ],
   "source": [
    "%%timeit\n",
    "\n",
    "def gt20(val):\n",
    "    return val > 20\n",
    "\n",
    "city_mpg.apply(gt20)"
   ]
  },
  {
   "cell_type": "code",
   "execution_count": 51,
   "id": "865202b1-b3f1-4d3e-96bc-b8d0a00cc6eb",
   "metadata": {},
   "outputs": [
    {
     "name": "stdout",
     "output_type": "stream",
     "text": [
      "51.5 µs ± 14.6 µs per loop (mean ± std. dev. of 7 runs, 10,000 loops each)\n"
     ]
    }
   ],
   "source": [
    "%%timeit\n",
    "\n",
    "city_mpg.gt(20)"
   ]
  },
  {
   "cell_type": "markdown",
   "id": "2d359a72-0242-4ee7-82b0-4185ffba742c",
   "metadata": {},
   "source": [
    "**Note:** Using the pandas built in function directly is **much** faster than using basic python with `.apply()`!\n",
    "\n"
   ]
  },
  {
   "cell_type": "markdown",
   "id": "6ba59475-1312-4423-a21c-bdf1af9b6e79",
   "metadata": {},
   "source": [
    "- `.where()`: keeps values from the series it is called on where the boolean array is true, but where the boolean array is false, it uses the value of the second parameter. It can sometimes replace `.apply()`."
   ]
  },
  {
   "cell_type": "code",
   "execution_count": 52,
   "id": "b34bfa76-b2e5-4b97-9a49-8f216819fda5",
   "metadata": {},
   "outputs": [],
   "source": [
    "top5 = df[\"make\"].value_counts().index[:5]\n",
    "\n",
    "def generalize_top5(val):\n",
    "    if val in top5:\n",
    "        return val\n",
    "    return \"Other\""
   ]
  },
  {
   "cell_type": "code",
   "execution_count": 53,
   "id": "3c154fb5-7cce-44c3-8804-3dde4cbdb8e8",
   "metadata": {},
   "outputs": [
    {
     "name": "stdout",
     "output_type": "stream",
     "text": [
      "10.2 ms ± 1.84 ms per loop (mean ± std. dev. of 7 runs, 100 loops each)\n"
     ]
    }
   ],
   "source": [
    "%%timeit\n",
    "\n",
    "df[\"make\"].apply(generalize_top5)"
   ]
  },
  {
   "cell_type": "code",
   "execution_count": 54,
   "id": "8818ee7c-faac-4b4b-9042-f9c5d87d314d",
   "metadata": {},
   "outputs": [
    {
     "name": "stdout",
     "output_type": "stream",
     "text": [
      "1.42 ms ± 214 µs per loop (mean ± std. dev. of 7 runs, 1,000 loops each)\n"
     ]
    }
   ],
   "source": [
    "%%timeit\n",
    "\n",
    "df[\"make\"].where(df[\"make\"].isin(top5), other=\"Other\")"
   ]
  },
  {
   "cell_type": "markdown",
   "id": "72d927cb-04bf-44e6-a93e-88e132c72669",
   "metadata": {},
   "source": [
    "- `.mask()`: this is the complement of the `.where()` method. Where the condition is False, it keeps the original values; if it is True, it replaces the value with the other parameter."
   ]
  },
  {
   "cell_type": "code",
   "execution_count": 55,
   "id": "7e2f21ad-edc5-48eb-8c37-fa48256043c1",
   "metadata": {},
   "outputs": [
    {
     "data": {
      "text/plain": [
       "0        Alfa Romeo\n",
       "1           Ferrari\n",
       "2              Top5\n",
       "3              Top5\n",
       "4            Subaru\n",
       "            ...    \n",
       "41139        Subaru\n",
       "41140        Subaru\n",
       "41141        Subaru\n",
       "41142        Subaru\n",
       "41143        Subaru\n",
       "Name: make, Length: 41144, dtype: object"
      ]
     },
     "execution_count": 55,
     "metadata": {},
     "output_type": "execute_result"
    }
   ],
   "source": [
    "df[\"make\"].mask(df[\"make\"].isin(top5), other=\"Top5\")   # Replaces all the top 5 values"
   ]
  },
  {
   "cell_type": "code",
   "execution_count": 56,
   "id": "e7e5e3d2-248d-4102-a661-1485284f302d",
   "metadata": {},
   "outputs": [
    {
     "data": {
      "text/plain": [
       "0        Other\n",
       "1        Other\n",
       "2        Dodge\n",
       "3        Dodge\n",
       "4        Other\n",
       "         ...  \n",
       "41139    Other\n",
       "41140    Other\n",
       "41141    Other\n",
       "41142    Other\n",
       "41143    Other\n",
       "Name: make, Length: 41144, dtype: object"
      ]
     },
     "execution_count": 56,
     "metadata": {},
     "output_type": "execute_result"
    }
   ],
   "source": [
    "df[\"make\"].mask(~df[\"make\"].isin(top5), other=\"Other\")   # negate the boolean and we get the same result as with .where"
   ]
  },
  {
   "cell_type": "markdown",
   "id": "5869fb09-2813-4a46-a3c4-37c3986114ad",
   "metadata": {},
   "source": [
    "Since `.mask()` is the opposite of `.where()`, we can ignore it and just use `.where()` with the required boolean array."
   ]
  },
  {
   "cell_type": "markdown",
   "id": "ca930a20-d888-457d-8a14-3fb2026e0cfb",
   "metadata": {},
   "source": [
    "- **if else** phrases can be done in pandas with `.where()`, but if they go beyond two options, multiple `.where()` statements need to be chained together, which can easily get cumbersome. As an alternative, it is possible to use the `select` function from numpy, which allows a list of contidions and values in one call. An example:"
   ]
  },
  {
   "cell_type": "code",
   "execution_count": 57,
   "id": "0ce493f8-e498-41bc-b566-7b4b9d13c506",
   "metadata": {},
   "outputs": [],
   "source": [
    "# we want to keep values in top 5, mark those in top 10 with 'top10' and use 'Other' for the rest\n",
    "\n",
    "vc = df[\"make\"].value_counts()\n",
    "top5 = vc.index[:5]\n",
    "top10 = vc.index[:10]\n"
   ]
  },
  {
   "cell_type": "code",
   "execution_count": 58,
   "id": "fa983a64-98f2-4190-8aae-c1c4ca58ef2a",
   "metadata": {},
   "outputs": [
    {
     "data": {
      "text/plain": [
       "0        Other\n",
       "1        Other\n",
       "2        Dodge\n",
       "3        Dodge\n",
       "4        Other\n",
       "         ...  \n",
       "41139    Other\n",
       "41140    Other\n",
       "41141    Other\n",
       "41142    Other\n",
       "41143    Other\n",
       "Name: make, Length: 41144, dtype: object"
      ]
     },
     "execution_count": 58,
     "metadata": {},
     "output_type": "execute_result"
    }
   ],
   "source": [
    "# with apply - worst option\n",
    "\n",
    "def generalize(val):\n",
    "    if val in top5:\n",
    "        return val\n",
    "    elif val in top10:\n",
    "        return \"Top10\"\n",
    "    else:\n",
    "        return \"Other\"\n",
    "    \n",
    "df[\"make\"].apply(generalize)"
   ]
  },
  {
   "cell_type": "code",
   "execution_count": 59,
   "id": "0e7f4042-91ab-4499-a978-31bcbd8b092a",
   "metadata": {},
   "outputs": [
    {
     "data": {
      "text/plain": [
       "0        Other\n",
       "1        Other\n",
       "2        Dodge\n",
       "3        Dodge\n",
       "4        Other\n",
       "         ...  \n",
       "41139    Other\n",
       "41140    Other\n",
       "41141    Other\n",
       "41142    Other\n",
       "41143    Other\n",
       "Name: make, Length: 41144, dtype: object"
      ]
     },
     "execution_count": 59,
     "metadata": {},
     "output_type": "execute_result"
    }
   ],
   "source": [
    "# with pandas method .where()\n",
    "\n",
    "df[\"make\"].where(df[\"make\"].isin(top5), \"Top10\").where(df[\"make\"].isin(top10), \"Other\")"
   ]
  },
  {
   "cell_type": "code",
   "execution_count": 60,
   "id": "744cb981-a320-4a38-9899-442492140824",
   "metadata": {},
   "outputs": [
    {
     "data": {
      "text/plain": [
       "0        Other\n",
       "1        Other\n",
       "2        Dodge\n",
       "3        Dodge\n",
       "4        Other\n",
       "         ...  \n",
       "41139    Other\n",
       "41140    Other\n",
       "41141    Other\n",
       "41142    Other\n",
       "41143    Other\n",
       "Length: 41144, dtype: object"
      ]
     },
     "execution_count": 60,
     "metadata": {},
     "output_type": "execute_result"
    }
   ],
   "source": [
    "# with numpy function select\n",
    "\n",
    "import numpy as np\n",
    "pd.Series(np.select([df[\"make\"].isin(top5), df[\"make\"].isin(top10)], \n",
    "                    [df[\"make\"], \"Top10\"], \"Other\"),\n",
    "         index=df[\"make\"].index)"
   ]
  },
  {
   "cell_type": "markdown",
   "id": "4eb8340c-d051-4546-b141-d3f8a20cb73c",
   "metadata": {},
   "source": [
    "- missing values: it is important to check for missing values and try to find out why they are missing."
   ]
  },
  {
   "cell_type": "code",
   "execution_count": 61,
   "id": "ad351499-76fb-4f3a-8c7a-1dd3591c45d7",
   "metadata": {},
   "outputs": [
    {
     "data": {
      "text/plain": [
       "206"
      ]
     },
     "execution_count": 61,
     "metadata": {},
     "output_type": "execute_result"
    }
   ],
   "source": [
    "# cylinders has missing values\n",
    "df[\"cylinders\"].isna().sum()"
   ]
  },
  {
   "cell_type": "code",
   "execution_count": 62,
   "id": "3cce7b6f-dfc9-485e-bc0d-a9a06de4eddd",
   "metadata": {},
   "outputs": [
    {
     "data": {
      "text/plain": [
       "7138     Nissan\n",
       "7139     Toyota\n",
       "8143     Toyota\n",
       "8144       Ford\n",
       "8146       Ford\n",
       "          ...  \n",
       "34563     Tesla\n",
       "34564     Tesla\n",
       "34565     Tesla\n",
       "34566     Tesla\n",
       "34567     Tesla\n",
       "Name: make, Length: 206, dtype: object"
      ]
     },
     "execution_count": 62,
     "metadata": {},
     "output_type": "execute_result"
    }
   ],
   "source": [
    "# check the make in those rows\n",
    "missing = df[\"cylinders\"].isna()\n",
    "df[\"make\"].loc[missing]"
   ]
  },
  {
   "cell_type": "markdown",
   "id": "70eee78a-c934-4886-a2c2-2f076b03df6f",
   "metadata": {},
   "source": [
    "**Note**: If we index `.loc[]` with a boolean array, it returns the rows where the boolean array is true."
   ]
  },
  {
   "cell_type": "markdown",
   "id": "49af65df-8c8b-408c-b667-d074543aca78",
   "metadata": {},
   "source": [
    "- filling in missing data: in the example above it looks like the cylinder information is missing for electric cars. They don't have any cylinders, so we can fill the missing values with 0."
   ]
  },
  {
   "cell_type": "code",
   "execution_count": 63,
   "id": "bd582230-2177-42d5-88ea-c03969bbf134",
   "metadata": {},
   "outputs": [
    {
     "data": {
      "text/plain": [
       "7136    6.0\n",
       "7137    6.0\n",
       "7138      0\n",
       "7139      0\n",
       "7140    6.0\n",
       "7141    6.0\n",
       "Name: cylinders, dtype: object"
      ]
     },
     "execution_count": 63,
     "metadata": {},
     "output_type": "execute_result"
    }
   ],
   "source": [
    "df[\"cylinders\"].fillna(\"0\").loc[7136:7141]"
   ]
  },
  {
   "cell_type": "markdown",
   "id": "f9e8c4eb-744c-4925-83e2-1ce274ebe26d",
   "metadata": {},
   "source": [
    "- `.interpolate` can also be used for filling in missing data, if the data is ordered (e.g. time series)."
   ]
  },
  {
   "cell_type": "code",
   "execution_count": 64,
   "id": "7de6f99f-e659-481f-be0a-f70288e4c1db",
   "metadata": {},
   "outputs": [
    {
     "data": {
      "text/plain": [
       "0    32.0\n",
       "1    40.0\n",
       "2    41.0\n",
       "3    42.0\n",
       "4    39.0\n",
       "5    32.0\n",
       "dtype: float64"
      ]
     },
     "execution_count": 64,
     "metadata": {},
     "output_type": "execute_result"
    }
   ],
   "source": [
    "temp = pd.Series([32, 40, None, 42, 39, 32])\n",
    "temp.interpolate()"
   ]
  },
  {
   "cell_type": "markdown",
   "id": "ea737998-d82d-4144-aaf9-3fb499db59c8",
   "metadata": {},
   "source": [
    "- `.clip` can be used to trim outliers from a Series to be within a specified range."
   ]
  },
  {
   "cell_type": "code",
   "execution_count": 65,
   "id": "2028bbbd-9bf9-4347-8f8b-afd781d38338",
   "metadata": {},
   "outputs": [
    {
     "data": {
      "text/plain": [
       "0      19\n",
       "1       9\n",
       "2      23\n",
       "3      10\n",
       "4      17\n",
       "       ..\n",
       "442    15\n",
       "443    15\n",
       "444    15\n",
       "445    15\n",
       "446    31\n",
       "Name: city08, Length: 447, dtype: int64"
      ]
     },
     "execution_count": 65,
     "metadata": {},
     "output_type": "execute_result"
    }
   ],
   "source": [
    "city_mpg.loc[:446]"
   ]
  },
  {
   "cell_type": "code",
   "execution_count": 66,
   "id": "7aa9d5c4-0ef4-4a9f-aa6f-e582a444139c",
   "metadata": {},
   "outputs": [
    {
     "data": {
      "text/plain": [
       "0      19.0\n",
       "1      11.0\n",
       "2      23.0\n",
       "3      11.0\n",
       "4      17.0\n",
       "       ... \n",
       "442    15.0\n",
       "443    15.0\n",
       "444    15.0\n",
       "445    15.0\n",
       "446    27.0\n",
       "Name: city08, Length: 447, dtype: float64"
      ]
     },
     "execution_count": 66,
     "metadata": {},
     "output_type": "execute_result"
    }
   ],
   "source": [
    "city_mpg.loc[:446].clip(\n",
    "    lower=city_mpg.quantile(0.05), \n",
    "    upper=city_mpg.quantile(0.95))"
   ]
  },
  {
   "cell_type": "markdown",
   "id": "e09e4f99-f39a-4ca4-89fe-c70ffcd73221",
   "metadata": {},
   "source": [
    "Note that the values outside the range do not get dropped, but rather adjusted to be within the bounds."
   ]
  },
  {
   "cell_type": "markdown",
   "id": "a0751b7d-8967-4089-a502-0279f60a5e4a",
   "metadata": {},
   "source": [
    "- `.sort_values` sorts values in ascending order and rearranges the index accordingly. Other math operations which include index alignment can still be performed on a sorted dataframe. It makes no difference, because the indices are matched before calculations are performed. You can use `na_position` to specify where you want NA values to appear."
   ]
  },
  {
   "cell_type": "code",
   "execution_count": 67,
   "id": "ad929193-6f33-4120-8dd2-c795299ef804",
   "metadata": {},
   "outputs": [
    {
     "data": {
      "text/plain": [
       "0        22.0\n",
       "1        11.5\n",
       "2        28.0\n",
       "3        11.0\n",
       "4        20.0\n",
       "         ... \n",
       "41139    22.5\n",
       "41140    24.0\n",
       "41141    21.0\n",
       "41142    21.0\n",
       "41143    18.5\n",
       "Length: 41144, dtype: float64"
      ]
     },
     "execution_count": 67,
     "metadata": {},
     "output_type": "execute_result"
    }
   ],
   "source": [
    "(city_mpg+highway_mpg) / 2"
   ]
  },
  {
   "cell_type": "code",
   "execution_count": 68,
   "id": "c2997c9e-9d65-4f8d-bc62-bbe260f6e256",
   "metadata": {},
   "outputs": [
    {
     "data": {
      "text/plain": [
       "0        22.0\n",
       "1        11.5\n",
       "2        28.0\n",
       "3        11.0\n",
       "4        20.0\n",
       "         ... \n",
       "41139    22.5\n",
       "41140    24.0\n",
       "41141    21.0\n",
       "41142    21.0\n",
       "41143    18.5\n",
       "Length: 41144, dtype: float64"
      ]
     },
     "execution_count": 68,
     "metadata": {},
     "output_type": "execute_result"
    }
   ],
   "source": [
    "(city_mpg.sort_values() + highway_mpg) / 2"
   ]
  },
  {
   "cell_type": "markdown",
   "id": "94825fe9-bab7-467e-ba89-c98187ca95f2",
   "metadata": {},
   "source": [
    "- `.sort_index` does the reverse, it sorts the values by their index:"
   ]
  },
  {
   "cell_type": "code",
   "execution_count": 69,
   "id": "ea5b0f6b-a006-4d97-9b9f-08908681af56",
   "metadata": {},
   "outputs": [
    {
     "data": {
      "text/plain": [
       "0        19\n",
       "1         9\n",
       "2        23\n",
       "3        10\n",
       "4        17\n",
       "         ..\n",
       "41139    19\n",
       "41140    20\n",
       "41141    18\n",
       "41142    18\n",
       "41143    16\n",
       "Name: city08, Length: 41144, dtype: int64"
      ]
     },
     "execution_count": 69,
     "metadata": {},
     "output_type": "execute_result"
    }
   ],
   "source": [
    "city_mpg.sort_values().sort_index()"
   ]
  },
  {
   "cell_type": "markdown",
   "id": "7aca53d8-a17c-4d42-b503-c33abc4564f6",
   "metadata": {},
   "source": [
    "- `.drop_duplicates()` removes values that appear more than once. You can choose to remove the first or the last duplicated value, or all of them."
   ]
  },
  {
   "cell_type": "code",
   "execution_count": 70,
   "id": "8c4f51a3-1f75-4603-98c0-46cf3f70842c",
   "metadata": {},
   "outputs": [
    {
     "data": {
      "text/plain": [
       "0         19\n",
       "1          9\n",
       "2         23\n",
       "3         10\n",
       "4         17\n",
       "        ... \n",
       "34364    127\n",
       "34409    114\n",
       "34564    140\n",
       "34565    115\n",
       "34566    104\n",
       "Name: city08, Length: 105, dtype: int64"
      ]
     },
     "execution_count": 70,
     "metadata": {},
     "output_type": "execute_result"
    }
   ],
   "source": [
    "city_mpg.drop_duplicates()"
   ]
  },
  {
   "cell_type": "markdown",
   "id": "2eacfd29-8248-4912-8685-e2fcdf6ca85b",
   "metadata": {},
   "source": [
    "- You can rank the values in a series with the `.rank()` method. It keeps the original index, but assigns a rank to each value. The ranking method can be controlled with the `method` parameter."
   ]
  },
  {
   "cell_type": "code",
   "execution_count": 71,
   "id": "633c1150-9d32-47dd-9893-39d295782332",
   "metadata": {},
   "outputs": [
    {
     "data": {
      "text/plain": [
       "0        27060.5\n",
       "1          235.5\n",
       "2        35830.0\n",
       "3          607.5\n",
       "4        19484.0\n",
       "          ...   \n",
       "41139    27060.5\n",
       "41140    29719.5\n",
       "41141    23528.0\n",
       "41142    23528.0\n",
       "41143    15479.0\n",
       "Name: city08, Length: 41144, dtype: float64"
      ]
     },
     "execution_count": 71,
     "metadata": {},
     "output_type": "execute_result"
    }
   ],
   "source": [
    "city_mpg.rank()"
   ]
  },
  {
   "cell_type": "markdown",
   "id": "64cbabba-46c4-4d60-9f54-abdd8a29e167",
   "metadata": {},
   "source": [
    "- Map values to new values with the `.replace()` method. You can use a dictionary, two lists or just two strings (or regex). "
   ]
  },
  {
   "cell_type": "code",
   "execution_count": 72,
   "id": "1f14c824-529d-4ef0-9b49-fca9b8587d3f",
   "metadata": {},
   "outputs": [
    {
     "data": {
      "text/plain": [
       "0            AR\n",
       "1             F\n",
       "2             D\n",
       "3             D\n",
       "4        Subaru\n",
       "          ...  \n",
       "41139    Subaru\n",
       "41140    Subaru\n",
       "41141    Subaru\n",
       "41142    Subaru\n",
       "41143    Subaru\n",
       "Name: make, Length: 41144, dtype: object"
      ]
     },
     "execution_count": 72,
     "metadata": {},
     "output_type": "execute_result"
    }
   ],
   "source": [
    "df[\"make\"].replace(to_replace={\"Alfa Romeo\":\"AR\", \"Ferrari\":\"F\", \"Dodge\":\"D\"})"
   ]
  },
  {
   "cell_type": "code",
   "execution_count": 73,
   "id": "c8bbb542-85ce-441e-8d57-a0e0fae16e45",
   "metadata": {},
   "outputs": [
    {
     "data": {
      "text/plain": [
       "0        Romeo & Juliet\n",
       "1               Ferrari\n",
       "2                 Dodge\n",
       "3                 Dodge\n",
       "4                Subaru\n",
       "              ...      \n",
       "41139            Subaru\n",
       "41140            Subaru\n",
       "41141            Subaru\n",
       "41142            Subaru\n",
       "41143            Subaru\n",
       "Name: make, Length: 41144, dtype: object"
      ]
     },
     "execution_count": 73,
     "metadata": {},
     "output_type": "execute_result"
    }
   ],
   "source": [
    "df[\"make\"].replace(to_replace=r\"Alfa (Romeo)\", value=r\"\\1 & Juliet\", regex=True)"
   ]
  },
  {
   "cell_type": "markdown",
   "id": "027b6ab4-8c09-421e-b5b2-c197f70aacf8",
   "metadata": {},
   "source": [
    "- the function `pd.cut()` is useful for binning data. It returns a new series with the specified number of categories (with more or less the same bin width). It is also possible to provide the edges of the bins or to use `pd.qcut()` to bin the values into quantiles (more or less the same number of values in each bin)."
   ]
  },
  {
   "cell_type": "code",
   "execution_count": 74,
   "id": "3eeba784-c565-4c6a-88a7-7c9f778287df",
   "metadata": {},
   "outputs": [
    {
     "data": {
      "text/plain": [
       "0        19\n",
       "1         9\n",
       "2        23\n",
       "3        10\n",
       "4        17\n",
       "         ..\n",
       "41139    19\n",
       "41140    20\n",
       "41141    18\n",
       "41142    18\n",
       "41143    16\n",
       "Name: city08, Length: 41144, dtype: int64"
      ]
     },
     "execution_count": 74,
     "metadata": {},
     "output_type": "execute_result"
    }
   ],
   "source": [
    "city_mpg"
   ]
  },
  {
   "cell_type": "code",
   "execution_count": 75,
   "id": "4ce0f40a-68d8-4993-999f-de16ff595e4f",
   "metadata": {},
   "outputs": [
    {
     "data": {
      "text/plain": [
       "0        (5.856, 20.4]\n",
       "1        (5.856, 20.4]\n",
       "2         (20.4, 34.8]\n",
       "3        (5.856, 20.4]\n",
       "4        (5.856, 20.4]\n",
       "             ...      \n",
       "41139    (5.856, 20.4]\n",
       "41140    (5.856, 20.4]\n",
       "41141    (5.856, 20.4]\n",
       "41142    (5.856, 20.4]\n",
       "41143    (5.856, 20.4]\n",
       "Name: city08, Length: 41144, dtype: category\n",
       "Categories (10, interval[float64, right]): [(5.856, 20.4] < (20.4, 34.8] < (34.8, 49.2] < (49.2, 63.6] ... (92.4, 106.8] < (106.8, 121.2] < (121.2, 135.6] < (135.6, 150.0]]"
      ]
     },
     "execution_count": 75,
     "metadata": {},
     "output_type": "execute_result"
    }
   ],
   "source": [
    "pd.cut(city_mpg, 10)"
   ]
  },
  {
   "cell_type": "code",
   "execution_count": 76,
   "id": "cfb7c487-6f6b-4a34-933c-99962232a3c5",
   "metadata": {},
   "outputs": [
    {
     "data": {
      "text/plain": [
       "0         (18.0, 20.0]\n",
       "1        (5.999, 13.0]\n",
       "2         (21.0, 24.0]\n",
       "3        (5.999, 13.0]\n",
       "4         (16.0, 17.0]\n",
       "             ...      \n",
       "41139     (18.0, 20.0]\n",
       "41140     (18.0, 20.0]\n",
       "41141     (17.0, 18.0]\n",
       "41142     (17.0, 18.0]\n",
       "41143     (15.0, 16.0]\n",
       "Name: city08, Length: 41144, dtype: category\n",
       "Categories (10, interval[float64, right]): [(5.999, 13.0] < (13.0, 14.0] < (14.0, 15.0] < (15.0, 16.0] ... (18.0, 20.0] < (20.0, 21.0] < (21.0, 24.0] < (24.0, 150.0]]"
      ]
     },
     "execution_count": 76,
     "metadata": {},
     "output_type": "execute_result"
    }
   ],
   "source": [
    "pd.qcut(city_mpg, 10)"
   ]
  },
  {
   "cell_type": "markdown",
   "id": "3df2fb17-d95c-410b-b550-7075dcffc52b",
   "metadata": {},
   "source": [
    "You can also provide the labels for the bins."
   ]
  },
  {
   "cell_type": "code",
   "execution_count": 77,
   "id": "2f3746bf-2fc2-4464-a509-7e68e9a321be",
   "metadata": {},
   "outputs": [
    {
     "data": {
      "text/plain": [
       "0             good\n",
       "1              bad\n",
       "2        very good\n",
       "3              bad\n",
       "4               ok\n",
       "           ...    \n",
       "41139         good\n",
       "41140         good\n",
       "41141         good\n",
       "41142         good\n",
       "41143           ok\n",
       "Name: city08, Length: 41144, dtype: category\n",
       "Categories (4, object): ['bad' < 'ok' < 'good' < 'very good']"
      ]
     },
     "execution_count": 77,
     "metadata": {},
     "output_type": "execute_result"
    }
   ],
   "source": [
    "pd.qcut(city_mpg, 4, labels=[\"bad\", \"ok\", \"good\", \"very good\"])"
   ]
  },
  {
   "cell_type": "markdown",
   "id": "f9c7bf53-5ca8-4f01-b147-09be553d6d47",
   "metadata": {},
   "source": [
    "### Exercises\n",
    "\n",
    "With a dataset of your choice:\n",
    "\n",
    "1) Create a series from a numeric column that has the value of 'high' if it is equal to or above the mean and 'low' if it is below the mean using `.apply`."
   ]
  },
  {
   "cell_type": "code",
   "execution_count": 78,
   "id": "bc6b4dc3-edd5-4e8b-8b92-70f522570fb5",
   "metadata": {},
   "outputs": [
    {
     "name": "stdout",
     "output_type": "stream",
     "text": [
      "CPU times: user 2 µs, sys: 0 ns, total: 2 µs\n",
      "Wall time: 3.1 µs\n"
     ]
    },
    {
     "data": {
      "text/plain": [
       "0        high\n",
       "1         low\n",
       "2        high\n",
       "3         low\n",
       "4         low\n",
       "         ... \n",
       "41139    high\n",
       "41140    high\n",
       "41141     low\n",
       "41142     low\n",
       "41143     low\n",
       "Name: city08, Length: 41144, dtype: object"
      ]
     },
     "execution_count": 78,
     "metadata": {},
     "output_type": "execute_result"
    }
   ],
   "source": [
    "%time\n",
    "city_mpg.apply(lambda x: \"high\" if x > city_mpg.mean() else \"low\")"
   ]
  },
  {
   "cell_type": "markdown",
   "id": "786d8e7e-3ec0-4d2a-9acc-445c2c26c484",
   "metadata": {},
   "source": [
    "2) Create a series from a numeric column that has the value of 'high' if it is equal to or above the mean and 'low' if it is below the mean using `np.select`."
   ]
  },
  {
   "cell_type": "code",
   "execution_count": 79,
   "id": "772a9e82-e93c-49b1-94f2-ee627a23f6f8",
   "metadata": {},
   "outputs": [
    {
     "name": "stdout",
     "output_type": "stream",
     "text": [
      "CPU times: user 2 µs, sys: 0 ns, total: 2 µs\n",
      "Wall time: 3.58 µs\n"
     ]
    },
    {
     "data": {
      "text/plain": [
       "0        high\n",
       "1         low\n",
       "2        high\n",
       "3         low\n",
       "4         low\n",
       "         ... \n",
       "41139    high\n",
       "41140    high\n",
       "41141     low\n",
       "41142     low\n",
       "41143     low\n",
       "Length: 41144, dtype: object"
      ]
     },
     "execution_count": 79,
     "metadata": {},
     "output_type": "execute_result"
    }
   ],
   "source": [
    "%time\n",
    "pd.Series(np.select([city_mpg > city_mpg.mean()], \n",
    "                    [\"high\"], \n",
    "                    default=\"low\"))"
   ]
  },
  {
   "cell_type": "markdown",
   "id": "ace95797-13b1-4c85-9b04-839a1cb8c215",
   "metadata": {},
   "source": [
    "3) Time the differences between the previous two solutions to see which is faster."
   ]
  },
  {
   "cell_type": "markdown",
   "id": "59a45f83",
   "metadata": {},
   "source": [
    "5.25 µs with `.apply()` vs. 2.86 µs with `np.select()`; the second option is almost twice as fast."
   ]
  },
  {
   "cell_type": "markdown",
   "id": "cb3cc150-562e-4306-a941-73893c152be3",
   "metadata": {},
   "source": [
    "4) Replace the missing values of a numeric series with the median value."
   ]
  },
  {
   "cell_type": "code",
   "execution_count": 80,
   "id": "5f25288a-fd38-4ff4-bbf4-488fdf8a4c5e",
   "metadata": {},
   "outputs": [
    {
     "data": {
      "text/plain": [
       "0     0.634374\n",
       "1     0.959327\n",
       "2     0.913345\n",
       "3     0.743277\n",
       "4     0.865577\n",
       "5     0.780011\n",
       "6     0.372173\n",
       "7     0.316781\n",
       "8     0.814646\n",
       "9     0.415251\n",
       "10    0.994123\n",
       "11    0.614512\n",
       "12    0.169706\n",
       "13    0.463974\n",
       "14    0.415677\n",
       "15    0.650463\n",
       "16    0.764570\n",
       "17    0.618285\n",
       "18    0.476430\n",
       "19    0.679173\n",
       "20    0.338534\n",
       "21    0.634374\n",
       "dtype: float64"
      ]
     },
     "execution_count": 80,
     "metadata": {},
     "output_type": "execute_result"
    }
   ],
   "source": [
    "random_series = pd.Series([np.nan] + np.random.rand(20).tolist() +  [np.nan])\n",
    "random_series.fillna(random_series.median())"
   ]
  },
  {
   "cell_type": "markdown",
   "id": "ac5f8fd6-cd10-44d6-96c1-085f4f867b86",
   "metadata": {},
   "source": [
    "5) Clip the values of a numeric series to between 10th and 90th percentiles."
   ]
  },
  {
   "cell_type": "code",
   "execution_count": 81,
   "id": "3377b108-6393-4a9a-acca-4fa76e0de3e2",
   "metadata": {},
   "outputs": [
    {
     "data": {
      "text/plain": [
       "0        19.0\n",
       "1        13.0\n",
       "2        23.0\n",
       "3        13.0\n",
       "4        17.0\n",
       "         ... \n",
       "41139    19.0\n",
       "41140    20.0\n",
       "41141    18.0\n",
       "41142    18.0\n",
       "41143    16.0\n",
       "Name: city08, Length: 41144, dtype: float64"
      ]
     },
     "execution_count": 81,
     "metadata": {},
     "output_type": "execute_result"
    }
   ],
   "source": [
    "city_mpg.clip(lower=city_mpg.quantile(0.1), upper=city_mpg.quantile(0.9))"
   ]
  },
  {
   "cell_type": "markdown",
   "id": "75b2b0cf-14c1-439a-9d8c-13562335f9c8",
   "metadata": {},
   "source": [
    "6) Using a categorical column, replace any value that is not in the top 5 most frequent values with 'Other'."
   ]
  },
  {
   "cell_type": "code",
   "execution_count": 82,
   "id": "ca3932ec",
   "metadata": {},
   "outputs": [
    {
     "data": {
      "text/plain": [
       "0        Regular\n",
       "1        Regular\n",
       "2        Regular\n",
       "3        Regular\n",
       "4        Premium\n",
       "          ...   \n",
       "41139    Regular\n",
       "41140    Regular\n",
       "41141    Regular\n",
       "41142    Regular\n",
       "41143    Premium\n",
       "Name: fuelType, Length: 41144, dtype: object"
      ]
     },
     "execution_count": 82,
     "metadata": {},
     "output_type": "execute_result"
    }
   ],
   "source": [
    "top5_fuel_types = df[\"fuelType\"].value_counts().index[:5]\n",
    "df[\"fuelType\"].where(df[\"fuelType\"].isin(top5_fuel_types), \"Other\")"
   ]
  },
  {
   "cell_type": "markdown",
   "id": "3821197d-115d-42ca-80ef-fd2d015fdeee",
   "metadata": {},
   "source": [
    "7) Using a categorical column, replace any value that is not in the top 10 most frequent values with 'Other'."
   ]
  },
  {
   "cell_type": "code",
   "execution_count": 83,
   "id": "13f62a3d",
   "metadata": {},
   "outputs": [
    {
     "data": {
      "text/plain": [
       "0        Other\n",
       "1        Other\n",
       "2        Other\n",
       "3        Other\n",
       "4        Other\n",
       "         ...  \n",
       "41139    Other\n",
       "41140    Other\n",
       "41141    Other\n",
       "41142    Other\n",
       "41143    Other\n",
       "Name: model, Length: 41144, dtype: object"
      ]
     },
     "execution_count": 83,
     "metadata": {},
     "output_type": "execute_result"
    }
   ],
   "source": [
    "top10_models = df[\"model\"].value_counts().index[:10]\n",
    "df[\"model\"].where(df[\"model\"].isin(top10_models), \"Other\")"
   ]
  },
  {
   "cell_type": "markdown",
   "id": "045ea6fb-2978-4110-bacc-18e92515d16a",
   "metadata": {},
   "source": [
    "8) Make a function that takes a categorical series and a number (n) and returns a replace series that replaces any value that is not in the top n most frequent values with 'Other'."
   ]
  },
  {
   "cell_type": "code",
   "execution_count": 84,
   "id": "8e76ed15-1956-4f82-b6f0-ff83324ce7bb",
   "metadata": {},
   "outputs": [
    {
     "data": {
      "text/plain": [
       "Regular            26447\n",
       "Premium            11542\n",
       "Other               1838\n",
       "Gasoline or E85     1317\n",
       "Name: fuelType, dtype: int64"
      ]
     },
     "execution_count": 84,
     "metadata": {},
     "output_type": "execute_result"
    }
   ],
   "source": [
    "def replace_small_categories(cat_series, n):\n",
    "    \n",
    "    top_n_cats = cat_series.value_counts().index[:n]\n",
    "    new_cat_series = cat_series.where(cat_series.isin(top_n_cats), \"Other\")\n",
    "    \n",
    "    return new_cat_series\n",
    "\n",
    "replace_small_categories(df[\"fuelType\"], 3).value_counts()"
   ]
  },
  {
   "cell_type": "markdown",
   "id": "e6c75340-0fa2-4347-b912-d6a1e320a260",
   "metadata": {},
   "source": [
    "9) Using a numeric column, bin it into 10 groups that have the same width."
   ]
  },
  {
   "cell_type": "code",
   "execution_count": 85,
   "id": "ec7c42a6-c75c-43d6-9128-c19d07f7e084",
   "metadata": {},
   "outputs": [
    {
     "data": {
      "text/plain": [
       "0        (5.856, 20.4]\n",
       "1        (5.856, 20.4]\n",
       "2         (20.4, 34.8]\n",
       "3        (5.856, 20.4]\n",
       "4        (5.856, 20.4]\n",
       "             ...      \n",
       "41139    (5.856, 20.4]\n",
       "41140    (5.856, 20.4]\n",
       "41141    (5.856, 20.4]\n",
       "41142    (5.856, 20.4]\n",
       "41143    (5.856, 20.4]\n",
       "Name: city08, Length: 41144, dtype: category\n",
       "Categories (10, interval[float64, right]): [(5.856, 20.4] < (20.4, 34.8] < (34.8, 49.2] < (49.2, 63.6] ... (92.4, 106.8] < (106.8, 121.2] < (121.2, 135.6] < (135.6, 150.0]]"
      ]
     },
     "execution_count": 85,
     "metadata": {},
     "output_type": "execute_result"
    }
   ],
   "source": [
    "pd.cut(city_mpg, 10)"
   ]
  },
  {
   "cell_type": "markdown",
   "id": "7a840796-e223-4538-957e-8b734356bd12",
   "metadata": {},
   "source": [
    "10) Using a numeric column, bin it into 10 groups that have equal sized bins. "
   ]
  },
  {
   "cell_type": "code",
   "execution_count": 86,
   "id": "a51a6073-8931-4424-b72e-fd64fa34b8a2",
   "metadata": {},
   "outputs": [
    {
     "data": {
      "text/plain": [
       "0         (18.0, 20.0]\n",
       "1        (5.999, 13.0]\n",
       "2         (21.0, 24.0]\n",
       "3        (5.999, 13.0]\n",
       "4         (16.0, 17.0]\n",
       "             ...      \n",
       "41139     (18.0, 20.0]\n",
       "41140     (18.0, 20.0]\n",
       "41141     (17.0, 18.0]\n",
       "41142     (17.0, 18.0]\n",
       "41143     (15.0, 16.0]\n",
       "Name: city08, Length: 41144, dtype: category\n",
       "Categories (10, interval[float64, right]): [(5.999, 13.0] < (13.0, 14.0] < (14.0, 15.0] < (15.0, 16.0] ... (18.0, 20.0] < (20.0, 21.0] < (21.0, 24.0] < (24.0, 150.0]]"
      ]
     },
     "execution_count": 86,
     "metadata": {},
     "output_type": "execute_result"
    }
   ],
   "source": [
    "pd.qcut(city_mpg, 10)"
   ]
  },
  {
   "cell_type": "markdown",
   "id": "148a49f3",
   "metadata": {},
   "source": [
    "<a id='P10'></a>\n",
    "## [Chapter 10: Indexing Operations](#P0)"
   ]
  },
  {
   "cell_type": "markdown",
   "id": "740cb322",
   "metadata": {},
   "source": [
    "### Notes"
   ]
  },
  {
   "cell_type": "markdown",
   "id": "09ec3d85",
   "metadata": {},
   "source": [
    "Main topics:\n",
    "- changing the index\n",
    "- accessing parts of a series using `[]`, `.loc[]` and `.iloc[]`\n",
    "    \n",
    "To avoid confusion, we use a series that has a string index, so that we can clearly distinguish between index position and index label."
   ]
  },
  {
   "cell_type": "code",
   "execution_count": 87,
   "id": "a3eabdd9",
   "metadata": {},
   "outputs": [
    {
     "data": {
      "text/plain": [
       "Alfa Romeo    19\n",
       "Ferrari        9\n",
       "Dodge         23\n",
       "Dodge         10\n",
       "Subaru        17\n",
       "              ..\n",
       "Subaru        19\n",
       "Subaru        20\n",
       "Subaru        18\n",
       "Subaru        18\n",
       "Subaru        16\n",
       "Name: city08, Length: 41144, dtype: int64"
      ]
     },
     "execution_count": 87,
     "metadata": {},
     "output_type": "execute_result"
    }
   ],
   "source": [
    "city2 = city_mpg.rename(df[\"make\"].to_dict())\n",
    "city2"
   ]
  },
  {
   "cell_type": "code",
   "execution_count": 88,
   "id": "bcfb0080",
   "metadata": {},
   "outputs": [
    {
     "data": {
      "text/plain": [
       "Index(['Alfa Romeo', 'Ferrari', 'Dodge', 'Dodge', 'Subaru', 'Subaru', 'Subaru',\n",
       "       'Toyota', 'Toyota', 'Toyota',\n",
       "       ...\n",
       "       'Saab', 'Saturn', 'Saturn', 'Saturn', 'Saturn', 'Subaru', 'Subaru',\n",
       "       'Subaru', 'Subaru', 'Subaru'],\n",
       "      dtype='object', length=41144)"
      ]
     },
     "execution_count": 88,
     "metadata": {},
     "output_type": "execute_result"
    }
   ],
   "source": [
    "city2.index"
   ]
  },
  {
   "cell_type": "markdown",
   "id": "acc7f233",
   "metadata": {},
   "source": [
    "- resetting the index with `.reset_index()` returns a dataframe with monotonically increasing integers in the index, and the current index in a new column. To drop the current index, we can use `drop=True`. **Caution:** this affects operations that align on the index."
   ]
  },
  {
   "cell_type": "code",
   "execution_count": 89,
   "id": "ff4246f9",
   "metadata": {},
   "outputs": [
    {
     "data": {
      "text/plain": [
       "0        19\n",
       "1         9\n",
       "2        23\n",
       "3        10\n",
       "4        17\n",
       "         ..\n",
       "41139    19\n",
       "41140    20\n",
       "41141    18\n",
       "41142    18\n",
       "41143    16\n",
       "Name: city08, Length: 41144, dtype: int64"
      ]
     },
     "execution_count": 89,
     "metadata": {},
     "output_type": "execute_result"
    }
   ],
   "source": [
    "city2.reset_index(drop=True)"
   ]
  },
  {
   "cell_type": "markdown",
   "id": "21240857-94c3-45f5-aa28-006d6c746fb8",
   "metadata": {},
   "source": [
    "**Slicing with `.loc` can be done with one of the following:**\n",
    "- A scalar value of one of the index labels\n",
    "- A list of index labels.\n",
    "- A slice of labels\n",
    "- An index\n",
    "- A boolean array\n",
    "- A function that accepts a series and returns one of the above\n",
    "\n",
    "You pull out items by their **index label**."
   ]
  },
  {
   "cell_type": "code",
   "execution_count": 90,
   "id": "d3a71b5c-56db-454b-b2f7-4406ca155e20",
   "metadata": {},
   "outputs": [],
   "source": [
    "indexing_df = df[[\"make\", \"city08\"]].set_index(\"make\")"
   ]
  },
  {
   "cell_type": "code",
   "execution_count": 91,
   "id": "babbd08c-380e-41ac-a81a-6001f267a334",
   "metadata": {},
   "outputs": [
    {
     "data": {
      "text/html": [
       "<div>\n",
       "<style scoped>\n",
       "    .dataframe tbody tr th:only-of-type {\n",
       "        vertical-align: middle;\n",
       "    }\n",
       "\n",
       "    .dataframe tbody tr th {\n",
       "        vertical-align: top;\n",
       "    }\n",
       "\n",
       "    .dataframe thead th {\n",
       "        text-align: right;\n",
       "    }\n",
       "</style>\n",
       "<table border=\"1\" class=\"dataframe\">\n",
       "  <thead>\n",
       "    <tr style=\"text-align: right;\">\n",
       "      <th></th>\n",
       "      <th>city08</th>\n",
       "    </tr>\n",
       "    <tr>\n",
       "      <th>make</th>\n",
       "      <th></th>\n",
       "    </tr>\n",
       "  </thead>\n",
       "  <tbody>\n",
       "    <tr>\n",
       "      <th>AM General</th>\n",
       "      <td>13</td>\n",
       "    </tr>\n",
       "    <tr>\n",
       "      <th>AM General</th>\n",
       "      <td>18</td>\n",
       "    </tr>\n",
       "    <tr>\n",
       "      <th>AM General</th>\n",
       "      <td>13</td>\n",
       "    </tr>\n",
       "    <tr>\n",
       "      <th>AM General</th>\n",
       "      <td>16</td>\n",
       "    </tr>\n",
       "    <tr>\n",
       "      <th>AM General</th>\n",
       "      <td>13</td>\n",
       "    </tr>\n",
       "    <tr>\n",
       "      <th>...</th>\n",
       "      <td>...</td>\n",
       "    </tr>\n",
       "    <tr>\n",
       "      <th>Buick</th>\n",
       "      <td>18</td>\n",
       "    </tr>\n",
       "    <tr>\n",
       "      <th>Buick</th>\n",
       "      <td>16</td>\n",
       "    </tr>\n",
       "    <tr>\n",
       "      <th>Buick</th>\n",
       "      <td>17</td>\n",
       "    </tr>\n",
       "    <tr>\n",
       "      <th>Buick</th>\n",
       "      <td>17</td>\n",
       "    </tr>\n",
       "    <tr>\n",
       "      <th>Buick</th>\n",
       "      <td>17</td>\n",
       "    </tr>\n",
       "  </tbody>\n",
       "</table>\n",
       "<p>4406 rows × 1 columns</p>\n",
       "</div>"
      ],
      "text/plain": [
       "            city08\n",
       "make              \n",
       "AM General      13\n",
       "AM General      18\n",
       "AM General      13\n",
       "AM General      16\n",
       "AM General      13\n",
       "...            ...\n",
       "Buick           18\n",
       "Buick           16\n",
       "Buick           17\n",
       "Buick           17\n",
       "Buick           17\n",
       "\n",
       "[4406 rows x 1 columns]"
      ]
     },
     "execution_count": 91,
     "metadata": {},
     "output_type": "execute_result"
    }
   ],
   "source": [
    "# Cool trick\n",
    "indexing_df.sort_index().loc[\"A\":\"C\"]"
   ]
  },
  {
   "cell_type": "code",
   "execution_count": 92,
   "id": "1a5f943a-da46-402e-88b5-95308727b89c",
   "metadata": {},
   "outputs": [
    {
     "name": "stdout",
     "output_type": "stream",
     "text": [
      "(2583, 1)\n",
      "(5166, 1)\n"
     ]
    }
   ],
   "source": [
    "# Careful with duplicates!\n",
    "print(indexing_df.loc[[\"Dodge\"]].shape)\n",
    "print(indexing_df.loc[[\"Dodge\", \"Dodge\"]].shape)  # Twice as many values!!"
   ]
  },
  {
   "cell_type": "code",
   "execution_count": 93,
   "id": "8487cde5-dc6c-46ab-9eee-0fadd20dfb04",
   "metadata": {},
   "outputs": [
    {
     "data": {
      "text/plain": [
       "make\n",
       "Dodge      230\n",
       "Subaru     210\n",
       "Subaru     220\n",
       "Toyota     230\n",
       "Toyota     230\n",
       "          ... \n",
       "Pontiac    260\n",
       "Saturn     230\n",
       "Saturn     210\n",
       "Saturn     240\n",
       "Saturn     210\n",
       "Name: city08, Length: 10272, dtype: int64"
      ]
     },
     "execution_count": 93,
     "metadata": {},
     "output_type": "execute_result"
    }
   ],
   "source": [
    "# .loc also accepts functions:\n",
    "\n",
    "(indexing_df[\"city08\"]\n",
    " .mul(10)\n",
    " .loc[lambda x: x > 200]\n",
    ")"
   ]
  },
  {
   "cell_type": "code",
   "execution_count": 94,
   "id": "cd84721f-5eeb-4ac4-b64c-fdd517d85593",
   "metadata": {},
   "outputs": [
    {
     "data": {
      "text/plain": [
       "Series([], Name: city08, dtype: int64)"
      ]
     },
     "execution_count": 94,
     "metadata": {},
     "output_type": "execute_result"
    }
   ],
   "source": [
    "mask = indexing_df[\"city08\"] > 200\n",
    "\n",
    "(indexing_df[\"city08\"]\n",
    " .mul(10)\n",
    " .loc[mask]\n",
    ")"
   ]
  },
  {
   "cell_type": "markdown",
   "id": "acff780b-fa3c-48e8-a94a-d0b2fe0fb5f7",
   "metadata": {},
   "source": [
    "**Slicing with `.iloc`:**\n",
    "\n",
    "You pull out items by their **index position**. Index positions are always unique."
   ]
  },
  {
   "cell_type": "code",
   "execution_count": 95,
   "id": "a2037b26-11f5-4cac-a64a-73c43314e560",
   "metadata": {},
   "outputs": [
    {
     "data": {
      "text/plain": [
       "19"
      ]
     },
     "execution_count": 95,
     "metadata": {},
     "output_type": "execute_result"
    }
   ],
   "source": [
    "city2.iloc[0]  # returns a value"
   ]
  },
  {
   "cell_type": "code",
   "execution_count": 96,
   "id": "422f407e-800e-482e-a78c-1630e6ffbfcc",
   "metadata": {},
   "outputs": [
    {
     "data": {
      "text/plain": [
       "Alfa Romeo    19\n",
       "Ferrari        9\n",
       "Dodge         23\n",
       "Name: city08, dtype: int64"
      ]
     },
     "execution_count": 96,
     "metadata": {},
     "output_type": "execute_result"
    }
   ],
   "source": [
    "city2.iloc[[0, 1, 2]]  # returns a series"
   ]
  },
  {
   "cell_type": "code",
   "execution_count": 97,
   "id": "b5066079-43df-481e-b033-d54aa165a18e",
   "metadata": {},
   "outputs": [
    {
     "data": {
      "text/plain": [
       "Nissan     81\n",
       "Toyota     81\n",
       "Toyota     81\n",
       "Ford       74\n",
       "Nissan     84\n",
       "         ... \n",
       "Tesla     140\n",
       "Tesla     115\n",
       "Tesla     104\n",
       "Tesla      98\n",
       "Toyota     55\n",
       "Name: city08, Length: 236, dtype: int64"
      ]
     },
     "execution_count": 97,
     "metadata": {},
     "output_type": "execute_result"
    }
   ],
   "source": [
    "# To use a boolean, we need to convert it to a numpy array or python list\n",
    "\n",
    "mask = city2 > 50\n",
    "\n",
    "city2.iloc[mask.to_numpy()]"
   ]
  },
  {
   "cell_type": "markdown",
   "id": "a2359cb6-4d41-447c-a764-16b621258f91",
   "metadata": {},
   "source": [
    "**Sampling!!**"
   ]
  },
  {
   "cell_type": "code",
   "execution_count": 98,
   "id": "5f2f1430-6255-4020-96d9-adfb14798f84",
   "metadata": {},
   "outputs": [
    {
     "data": {
      "text/plain": [
       "Volvo            16\n",
       "BMW              20\n",
       "Toyota           20\n",
       "Nissan           15\n",
       "Mercedes-Benz    18\n",
       "Audi             13\n",
       "Kia              22\n",
       "Toyota           17\n",
       "Pontiac          15\n",
       "Ford             13\n",
       "Name: city08, dtype: int64"
      ]
     },
     "execution_count": 98,
     "metadata": {},
     "output_type": "execute_result"
    }
   ],
   "source": [
    "city2.sample(10, random_state=31)"
   ]
  },
  {
   "cell_type": "markdown",
   "id": "551a5627-dad1-4067-8a60-ea07c3c7dc83",
   "metadata": {},
   "source": [
    "**Filtering:**\n",
    "\n",
    "Can be done with items (exact match), like (substring) or regex."
   ]
  },
  {
   "cell_type": "code",
   "execution_count": 99,
   "id": "e458bb9b-6fe3-4cda-85cf-bad2a99efd74",
   "metadata": {},
   "outputs": [
    {
     "data": {
      "text/plain": [
       "Alfa Romeo    19\n",
       "Alfa Romeo    19\n",
       "Alfa Romeo    14\n",
       "Alfa Romeo    15\n",
       "Alfa Romeo    14\n",
       "              ..\n",
       "Alfa Romeo    19\n",
       "Alfa Romeo    19\n",
       "Alfa Romeo    16\n",
       "Alfa Romeo    16\n",
       "Alfa Romeo    15\n",
       "Name: city08, Length: 62, dtype: int64"
      ]
     },
     "execution_count": 99,
     "metadata": {},
     "output_type": "execute_result"
    }
   ],
   "source": [
    "city2.filter(like=\"lf\")"
   ]
  },
  {
   "cell_type": "code",
   "execution_count": 100,
   "id": "04b5962d-1343-457d-b228-92d9cafd1331",
   "metadata": {},
   "outputs": [
    {
     "data": {
      "text/plain": [
       "Alfa Romeo    19\n",
       "Ford          18\n",
       "Ford          16\n",
       "Ford          17\n",
       "Ford          17\n",
       "              ..\n",
       "Ford          26\n",
       "Ford          19\n",
       "Ford          21\n",
       "Ford          18\n",
       "Ford          19\n",
       "Name: city08, Length: 3433, dtype: int64"
      ]
     },
     "execution_count": 100,
     "metadata": {},
     "output_type": "execute_result"
    }
   ],
   "source": [
    "city2.filter(regex=\"lf|Ford\")"
   ]
  },
  {
   "cell_type": "markdown",
   "id": "548e916b-c5dd-4428-80be-ef3d1b03aee4",
   "metadata": {},
   "source": [
    "**Reindexing:**"
   ]
  },
  {
   "cell_type": "code",
   "execution_count": 101,
   "id": "8f9ad4b3-e1d0-4238-bb77-66e87ec68c57",
   "metadata": {},
   "outputs": [
    {
     "data": {
      "text/plain": [
       "2     33\n",
       "6     29\n",
       "7     26\n",
       "15    28\n",
       "78    24\n",
       "Name: highway08, dtype: int64"
      ]
     },
     "execution_count": 101,
     "metadata": {},
     "output_type": "execute_result"
    }
   ],
   "source": [
    "series_1 = highway_mpg.iloc[[2,6,7,15,78]]\n",
    "series_1"
   ]
  },
  {
   "cell_type": "code",
   "execution_count": 102,
   "id": "750de569-0d0f-4ca0-a2af-6b206aab0d61",
   "metadata": {},
   "outputs": [
    {
     "data": {
      "text/plain": [
       "2     23\n",
       "7     23\n",
       "14    12\n",
       "15    20\n",
       "75    21\n",
       "78    18\n",
       "Name: city08, dtype: int64"
      ]
     },
     "execution_count": 102,
     "metadata": {},
     "output_type": "execute_result"
    }
   ],
   "source": [
    "series_2 = city_mpg.iloc[[2,7,14,15,75,78]]\n",
    "series_2"
   ]
  },
  {
   "cell_type": "code",
   "execution_count": 103,
   "id": "023a27ea-4d66-4e21-baf3-ead5e214f72f",
   "metadata": {},
   "outputs": [
    {
     "data": {
      "text/plain": [
       "2     23.0\n",
       "6      NaN\n",
       "7     23.0\n",
       "15    20.0\n",
       "78    18.0\n",
       "Name: city08, dtype: float64"
      ]
     },
     "execution_count": 103,
     "metadata": {},
     "output_type": "execute_result"
    }
   ],
   "source": [
    "# Make sure two series have the same index\n",
    "series_2.reindex(series_1.index)"
   ]
  },
  {
   "cell_type": "markdown",
   "id": "d371c6cc",
   "metadata": {},
   "source": [
    "### Exercises\n",
    "\n",
    "With a dataset of your choice:\n",
    "\n",
    "1) Inspect the index."
   ]
  },
  {
   "cell_type": "code",
   "execution_count": 104,
   "id": "8f55c3ad",
   "metadata": {},
   "outputs": [
    {
     "data": {
      "text/plain": [
       "Index(['Alfa Romeo', 'Ferrari', 'Dodge', 'Dodge', 'Subaru', 'Subaru', 'Subaru',\n",
       "       'Toyota', 'Toyota', 'Toyota',\n",
       "       ...\n",
       "       'Saab', 'Saturn', 'Saturn', 'Saturn', 'Saturn', 'Subaru', 'Subaru',\n",
       "       'Subaru', 'Subaru', 'Subaru'],\n",
       "      dtype='object', name='make', length=41144)"
      ]
     },
     "execution_count": 104,
     "metadata": {},
     "output_type": "execute_result"
    }
   ],
   "source": [
    "indexing_df.index"
   ]
  },
  {
   "cell_type": "markdown",
   "id": "fd6b415a",
   "metadata": {},
   "source": [
    "2) Sort the index."
   ]
  },
  {
   "cell_type": "code",
   "execution_count": 105,
   "id": "1d0b711f",
   "metadata": {},
   "outputs": [
    {
     "data": {
      "text/html": [
       "<div>\n",
       "<style scoped>\n",
       "    .dataframe tbody tr th:only-of-type {\n",
       "        vertical-align: middle;\n",
       "    }\n",
       "\n",
       "    .dataframe tbody tr th {\n",
       "        vertical-align: top;\n",
       "    }\n",
       "\n",
       "    .dataframe thead th {\n",
       "        text-align: right;\n",
       "    }\n",
       "</style>\n",
       "<table border=\"1\" class=\"dataframe\">\n",
       "  <thead>\n",
       "    <tr style=\"text-align: right;\">\n",
       "      <th></th>\n",
       "      <th>city08</th>\n",
       "    </tr>\n",
       "    <tr>\n",
       "      <th>make</th>\n",
       "      <th></th>\n",
       "    </tr>\n",
       "  </thead>\n",
       "  <tbody>\n",
       "    <tr>\n",
       "      <th>smart</th>\n",
       "      <td>34</td>\n",
       "    </tr>\n",
       "    <tr>\n",
       "      <th>smart</th>\n",
       "      <td>33</td>\n",
       "    </tr>\n",
       "    <tr>\n",
       "      <th>smart</th>\n",
       "      <td>33</td>\n",
       "    </tr>\n",
       "    <tr>\n",
       "      <th>smart</th>\n",
       "      <td>34</td>\n",
       "    </tr>\n",
       "    <tr>\n",
       "      <th>smart</th>\n",
       "      <td>34</td>\n",
       "    </tr>\n",
       "    <tr>\n",
       "      <th>...</th>\n",
       "      <td>...</td>\n",
       "    </tr>\n",
       "    <tr>\n",
       "      <th>AM General</th>\n",
       "      <td>16</td>\n",
       "    </tr>\n",
       "    <tr>\n",
       "      <th>AM General</th>\n",
       "      <td>13</td>\n",
       "    </tr>\n",
       "    <tr>\n",
       "      <th>AM General</th>\n",
       "      <td>18</td>\n",
       "    </tr>\n",
       "    <tr>\n",
       "      <th>AM General</th>\n",
       "      <td>13</td>\n",
       "    </tr>\n",
       "    <tr>\n",
       "      <th>AM General</th>\n",
       "      <td>13</td>\n",
       "    </tr>\n",
       "  </tbody>\n",
       "</table>\n",
       "<p>41144 rows × 1 columns</p>\n",
       "</div>"
      ],
      "text/plain": [
       "            city08\n",
       "make              \n",
       "smart           34\n",
       "smart           33\n",
       "smart           33\n",
       "smart           34\n",
       "smart           34\n",
       "...            ...\n",
       "AM General      16\n",
       "AM General      13\n",
       "AM General      18\n",
       "AM General      13\n",
       "AM General      13\n",
       "\n",
       "[41144 rows x 1 columns]"
      ]
     },
     "execution_count": 105,
     "metadata": {},
     "output_type": "execute_result"
    }
   ],
   "source": [
    "indexing_df.sort_index(ascending=False)"
   ]
  },
  {
   "cell_type": "markdown",
   "id": "4c480cd7",
   "metadata": {},
   "source": [
    "3) Set the index to monotonically increasing integers starting from 0."
   ]
  },
  {
   "cell_type": "code",
   "execution_count": 106,
   "id": "f432b98f",
   "metadata": {},
   "outputs": [
    {
     "data": {
      "text/html": [
       "<div>\n",
       "<style scoped>\n",
       "    .dataframe tbody tr th:only-of-type {\n",
       "        vertical-align: middle;\n",
       "    }\n",
       "\n",
       "    .dataframe tbody tr th {\n",
       "        vertical-align: top;\n",
       "    }\n",
       "\n",
       "    .dataframe thead th {\n",
       "        text-align: right;\n",
       "    }\n",
       "</style>\n",
       "<table border=\"1\" class=\"dataframe\">\n",
       "  <thead>\n",
       "    <tr style=\"text-align: right;\">\n",
       "      <th></th>\n",
       "      <th>make</th>\n",
       "      <th>city08</th>\n",
       "    </tr>\n",
       "  </thead>\n",
       "  <tbody>\n",
       "    <tr>\n",
       "      <th>0</th>\n",
       "      <td>Alfa Romeo</td>\n",
       "      <td>19</td>\n",
       "    </tr>\n",
       "    <tr>\n",
       "      <th>1</th>\n",
       "      <td>Ferrari</td>\n",
       "      <td>9</td>\n",
       "    </tr>\n",
       "    <tr>\n",
       "      <th>2</th>\n",
       "      <td>Dodge</td>\n",
       "      <td>23</td>\n",
       "    </tr>\n",
       "    <tr>\n",
       "      <th>3</th>\n",
       "      <td>Dodge</td>\n",
       "      <td>10</td>\n",
       "    </tr>\n",
       "    <tr>\n",
       "      <th>4</th>\n",
       "      <td>Subaru</td>\n",
       "      <td>17</td>\n",
       "    </tr>\n",
       "    <tr>\n",
       "      <th>...</th>\n",
       "      <td>...</td>\n",
       "      <td>...</td>\n",
       "    </tr>\n",
       "    <tr>\n",
       "      <th>41139</th>\n",
       "      <td>Subaru</td>\n",
       "      <td>19</td>\n",
       "    </tr>\n",
       "    <tr>\n",
       "      <th>41140</th>\n",
       "      <td>Subaru</td>\n",
       "      <td>20</td>\n",
       "    </tr>\n",
       "    <tr>\n",
       "      <th>41141</th>\n",
       "      <td>Subaru</td>\n",
       "      <td>18</td>\n",
       "    </tr>\n",
       "    <tr>\n",
       "      <th>41142</th>\n",
       "      <td>Subaru</td>\n",
       "      <td>18</td>\n",
       "    </tr>\n",
       "    <tr>\n",
       "      <th>41143</th>\n",
       "      <td>Subaru</td>\n",
       "      <td>16</td>\n",
       "    </tr>\n",
       "  </tbody>\n",
       "</table>\n",
       "<p>41144 rows × 2 columns</p>\n",
       "</div>"
      ],
      "text/plain": [
       "             make  city08\n",
       "0      Alfa Romeo      19\n",
       "1         Ferrari       9\n",
       "2           Dodge      23\n",
       "3           Dodge      10\n",
       "4          Subaru      17\n",
       "...           ...     ...\n",
       "41139      Subaru      19\n",
       "41140      Subaru      20\n",
       "41141      Subaru      18\n",
       "41142      Subaru      18\n",
       "41143      Subaru      16\n",
       "\n",
       "[41144 rows x 2 columns]"
      ]
     },
     "execution_count": 106,
     "metadata": {},
     "output_type": "execute_result"
    }
   ],
   "source": [
    "indexing_df.reset_index()"
   ]
  },
  {
   "cell_type": "markdown",
   "id": "11449e29",
   "metadata": {},
   "source": [
    "4) Set the index to monotonically increasing integers starting from 0, then convert these to the string version. Save this as `s2`."
   ]
  },
  {
   "cell_type": "code",
   "execution_count": 107,
   "id": "55b94389",
   "metadata": {},
   "outputs": [
    {
     "data": {
      "text/plain": [
       "Index(['0', '1', '2', '3', '4', '5', '6', '7', '8', '9',\n",
       "       ...\n",
       "       '41134', '41135', '41136', '41137', '41138', '41139', '41140', '41141',\n",
       "       '41142', '41143'],\n",
       "      dtype='object', length=41144)"
      ]
     },
     "execution_count": 107,
     "metadata": {},
     "output_type": "execute_result"
    }
   ],
   "source": [
    "s2 = indexing_df.reset_index()\n",
    "s2.index = s2.index.map(str)\n",
    "s2.index"
   ]
  },
  {
   "cell_type": "markdown",
   "id": "12fe16e4",
   "metadata": {},
   "source": [
    "5) Using `s2`, pull out the first 5 entries. "
   ]
  },
  {
   "cell_type": "code",
   "execution_count": 108,
   "id": "99b939ba",
   "metadata": {},
   "outputs": [
    {
     "data": {
      "text/html": [
       "<div>\n",
       "<style scoped>\n",
       "    .dataframe tbody tr th:only-of-type {\n",
       "        vertical-align: middle;\n",
       "    }\n",
       "\n",
       "    .dataframe tbody tr th {\n",
       "        vertical-align: top;\n",
       "    }\n",
       "\n",
       "    .dataframe thead th {\n",
       "        text-align: right;\n",
       "    }\n",
       "</style>\n",
       "<table border=\"1\" class=\"dataframe\">\n",
       "  <thead>\n",
       "    <tr style=\"text-align: right;\">\n",
       "      <th></th>\n",
       "      <th>make</th>\n",
       "      <th>city08</th>\n",
       "    </tr>\n",
       "  </thead>\n",
       "  <tbody>\n",
       "    <tr>\n",
       "      <th>0</th>\n",
       "      <td>Alfa Romeo</td>\n",
       "      <td>19</td>\n",
       "    </tr>\n",
       "    <tr>\n",
       "      <th>1</th>\n",
       "      <td>Ferrari</td>\n",
       "      <td>9</td>\n",
       "    </tr>\n",
       "    <tr>\n",
       "      <th>2</th>\n",
       "      <td>Dodge</td>\n",
       "      <td>23</td>\n",
       "    </tr>\n",
       "    <tr>\n",
       "      <th>3</th>\n",
       "      <td>Dodge</td>\n",
       "      <td>10</td>\n",
       "    </tr>\n",
       "    <tr>\n",
       "      <th>4</th>\n",
       "      <td>Subaru</td>\n",
       "      <td>17</td>\n",
       "    </tr>\n",
       "  </tbody>\n",
       "</table>\n",
       "</div>"
      ],
      "text/plain": [
       "         make  city08\n",
       "0  Alfa Romeo      19\n",
       "1     Ferrari       9\n",
       "2       Dodge      23\n",
       "3       Dodge      10\n",
       "4      Subaru      17"
      ]
     },
     "execution_count": 108,
     "metadata": {},
     "output_type": "execute_result"
    }
   ],
   "source": [
    "s2.iloc[:5,:]"
   ]
  },
  {
   "cell_type": "code",
   "execution_count": 109,
   "id": "3adb7574-97ee-40ce-bfdc-9e715391c220",
   "metadata": {},
   "outputs": [
    {
     "data": {
      "text/html": [
       "<div>\n",
       "<style scoped>\n",
       "    .dataframe tbody tr th:only-of-type {\n",
       "        vertical-align: middle;\n",
       "    }\n",
       "\n",
       "    .dataframe tbody tr th {\n",
       "        vertical-align: top;\n",
       "    }\n",
       "\n",
       "    .dataframe thead th {\n",
       "        text-align: right;\n",
       "    }\n",
       "</style>\n",
       "<table border=\"1\" class=\"dataframe\">\n",
       "  <thead>\n",
       "    <tr style=\"text-align: right;\">\n",
       "      <th></th>\n",
       "      <th>make</th>\n",
       "      <th>city08</th>\n",
       "    </tr>\n",
       "  </thead>\n",
       "  <tbody>\n",
       "    <tr>\n",
       "      <th>0</th>\n",
       "      <td>Alfa Romeo</td>\n",
       "      <td>19</td>\n",
       "    </tr>\n",
       "    <tr>\n",
       "      <th>1</th>\n",
       "      <td>Ferrari</td>\n",
       "      <td>9</td>\n",
       "    </tr>\n",
       "    <tr>\n",
       "      <th>2</th>\n",
       "      <td>Dodge</td>\n",
       "      <td>23</td>\n",
       "    </tr>\n",
       "    <tr>\n",
       "      <th>3</th>\n",
       "      <td>Dodge</td>\n",
       "      <td>10</td>\n",
       "    </tr>\n",
       "    <tr>\n",
       "      <th>4</th>\n",
       "      <td>Subaru</td>\n",
       "      <td>17</td>\n",
       "    </tr>\n",
       "  </tbody>\n",
       "</table>\n",
       "</div>"
      ],
      "text/plain": [
       "         make  city08\n",
       "0  Alfa Romeo      19\n",
       "1     Ferrari       9\n",
       "2       Dodge      23\n",
       "3       Dodge      10\n",
       "4      Subaru      17"
      ]
     },
     "execution_count": 109,
     "metadata": {},
     "output_type": "execute_result"
    }
   ],
   "source": [
    "s2.loc[:\"4\",:]"
   ]
  },
  {
   "cell_type": "markdown",
   "id": "72ab0916",
   "metadata": {},
   "source": [
    "6) Using `s2`, pull out the last 5 entries."
   ]
  },
  {
   "cell_type": "code",
   "execution_count": 110,
   "id": "ff487783",
   "metadata": {},
   "outputs": [
    {
     "data": {
      "text/html": [
       "<div>\n",
       "<style scoped>\n",
       "    .dataframe tbody tr th:only-of-type {\n",
       "        vertical-align: middle;\n",
       "    }\n",
       "\n",
       "    .dataframe tbody tr th {\n",
       "        vertical-align: top;\n",
       "    }\n",
       "\n",
       "    .dataframe thead th {\n",
       "        text-align: right;\n",
       "    }\n",
       "</style>\n",
       "<table border=\"1\" class=\"dataframe\">\n",
       "  <thead>\n",
       "    <tr style=\"text-align: right;\">\n",
       "      <th></th>\n",
       "      <th>make</th>\n",
       "      <th>city08</th>\n",
       "    </tr>\n",
       "  </thead>\n",
       "  <tbody>\n",
       "    <tr>\n",
       "      <th>41139</th>\n",
       "      <td>Subaru</td>\n",
       "      <td>19</td>\n",
       "    </tr>\n",
       "    <tr>\n",
       "      <th>41140</th>\n",
       "      <td>Subaru</td>\n",
       "      <td>20</td>\n",
       "    </tr>\n",
       "    <tr>\n",
       "      <th>41141</th>\n",
       "      <td>Subaru</td>\n",
       "      <td>18</td>\n",
       "    </tr>\n",
       "    <tr>\n",
       "      <th>41142</th>\n",
       "      <td>Subaru</td>\n",
       "      <td>18</td>\n",
       "    </tr>\n",
       "    <tr>\n",
       "      <th>41143</th>\n",
       "      <td>Subaru</td>\n",
       "      <td>16</td>\n",
       "    </tr>\n",
       "  </tbody>\n",
       "</table>\n",
       "</div>"
      ],
      "text/plain": [
       "         make  city08\n",
       "41139  Subaru      19\n",
       "41140  Subaru      20\n",
       "41141  Subaru      18\n",
       "41142  Subaru      18\n",
       "41143  Subaru      16"
      ]
     },
     "execution_count": 110,
     "metadata": {},
     "output_type": "execute_result"
    }
   ],
   "source": [
    "s2.tail()"
   ]
  },
  {
   "cell_type": "code",
   "execution_count": 111,
   "id": "64a9d1e0-4d6c-43f7-93f1-259ef50e95ab",
   "metadata": {},
   "outputs": [
    {
     "data": {
      "text/html": [
       "<div>\n",
       "<style scoped>\n",
       "    .dataframe tbody tr th:only-of-type {\n",
       "        vertical-align: middle;\n",
       "    }\n",
       "\n",
       "    .dataframe tbody tr th {\n",
       "        vertical-align: top;\n",
       "    }\n",
       "\n",
       "    .dataframe thead th {\n",
       "        text-align: right;\n",
       "    }\n",
       "</style>\n",
       "<table border=\"1\" class=\"dataframe\">\n",
       "  <thead>\n",
       "    <tr style=\"text-align: right;\">\n",
       "      <th></th>\n",
       "      <th>make</th>\n",
       "      <th>city08</th>\n",
       "    </tr>\n",
       "  </thead>\n",
       "  <tbody>\n",
       "    <tr>\n",
       "      <th>41139</th>\n",
       "      <td>Subaru</td>\n",
       "      <td>19</td>\n",
       "    </tr>\n",
       "    <tr>\n",
       "      <th>41140</th>\n",
       "      <td>Subaru</td>\n",
       "      <td>20</td>\n",
       "    </tr>\n",
       "    <tr>\n",
       "      <th>41141</th>\n",
       "      <td>Subaru</td>\n",
       "      <td>18</td>\n",
       "    </tr>\n",
       "    <tr>\n",
       "      <th>41142</th>\n",
       "      <td>Subaru</td>\n",
       "      <td>18</td>\n",
       "    </tr>\n",
       "    <tr>\n",
       "      <th>41143</th>\n",
       "      <td>Subaru</td>\n",
       "      <td>16</td>\n",
       "    </tr>\n",
       "  </tbody>\n",
       "</table>\n",
       "</div>"
      ],
      "text/plain": [
       "         make  city08\n",
       "41139  Subaru      19\n",
       "41140  Subaru      20\n",
       "41141  Subaru      18\n",
       "41142  Subaru      18\n",
       "41143  Subaru      16"
      ]
     },
     "execution_count": 111,
     "metadata": {},
     "output_type": "execute_result"
    }
   ],
   "source": [
    "s2.iloc[-5:,:]"
   ]
  },
  {
   "cell_type": "markdown",
   "id": "670dede8",
   "metadata": {},
   "source": [
    "7) Using `s2`, pull out one hundred entries starting at index position 10."
   ]
  },
  {
   "cell_type": "code",
   "execution_count": 112,
   "id": "9fe2e738",
   "metadata": {},
   "outputs": [
    {
     "data": {
      "text/html": [
       "<div>\n",
       "<style scoped>\n",
       "    .dataframe tbody tr th:only-of-type {\n",
       "        vertical-align: middle;\n",
       "    }\n",
       "\n",
       "    .dataframe tbody tr th {\n",
       "        vertical-align: top;\n",
       "    }\n",
       "\n",
       "    .dataframe thead th {\n",
       "        text-align: right;\n",
       "    }\n",
       "</style>\n",
       "<table border=\"1\" class=\"dataframe\">\n",
       "  <thead>\n",
       "    <tr style=\"text-align: right;\">\n",
       "      <th></th>\n",
       "      <th>make</th>\n",
       "      <th>city08</th>\n",
       "    </tr>\n",
       "  </thead>\n",
       "  <tbody>\n",
       "    <tr>\n",
       "      <th>10</th>\n",
       "      <td>Toyota</td>\n",
       "      <td>23</td>\n",
       "    </tr>\n",
       "    <tr>\n",
       "      <th>11</th>\n",
       "      <td>Volkswagen</td>\n",
       "      <td>18</td>\n",
       "    </tr>\n",
       "    <tr>\n",
       "      <th>12</th>\n",
       "      <td>Volkswagen</td>\n",
       "      <td>21</td>\n",
       "    </tr>\n",
       "    <tr>\n",
       "      <th>13</th>\n",
       "      <td>Volkswagen</td>\n",
       "      <td>18</td>\n",
       "    </tr>\n",
       "    <tr>\n",
       "      <th>14</th>\n",
       "      <td>Dodge</td>\n",
       "      <td>12</td>\n",
       "    </tr>\n",
       "    <tr>\n",
       "      <th>...</th>\n",
       "      <td>...</td>\n",
       "      <td>...</td>\n",
       "    </tr>\n",
       "    <tr>\n",
       "      <th>105</th>\n",
       "      <td>Toyota</td>\n",
       "      <td>16</td>\n",
       "    </tr>\n",
       "    <tr>\n",
       "      <th>106</th>\n",
       "      <td>Toyota</td>\n",
       "      <td>16</td>\n",
       "    </tr>\n",
       "    <tr>\n",
       "      <th>107</th>\n",
       "      <td>Volkswagen</td>\n",
       "      <td>18</td>\n",
       "    </tr>\n",
       "    <tr>\n",
       "      <th>108</th>\n",
       "      <td>Volkswagen</td>\n",
       "      <td>18</td>\n",
       "    </tr>\n",
       "    <tr>\n",
       "      <th>109</th>\n",
       "      <td>Volkswagen</td>\n",
       "      <td>15</td>\n",
       "    </tr>\n",
       "  </tbody>\n",
       "</table>\n",
       "<p>100 rows × 2 columns</p>\n",
       "</div>"
      ],
      "text/plain": [
       "           make  city08\n",
       "10       Toyota      23\n",
       "11   Volkswagen      18\n",
       "12   Volkswagen      21\n",
       "13   Volkswagen      18\n",
       "14        Dodge      12\n",
       "..          ...     ...\n",
       "105      Toyota      16\n",
       "106      Toyota      16\n",
       "107  Volkswagen      18\n",
       "108  Volkswagen      18\n",
       "109  Volkswagen      15\n",
       "\n",
       "[100 rows x 2 columns]"
      ]
     },
     "execution_count": 112,
     "metadata": {},
     "output_type": "execute_result"
    }
   ],
   "source": [
    "s2.loc[\"10\":\"109\",:]"
   ]
  },
  {
   "cell_type": "code",
   "execution_count": 113,
   "id": "6c6e6cfd-592f-4069-beff-1a06c334ce09",
   "metadata": {},
   "outputs": [
    {
     "data": {
      "text/html": [
       "<div>\n",
       "<style scoped>\n",
       "    .dataframe tbody tr th:only-of-type {\n",
       "        vertical-align: middle;\n",
       "    }\n",
       "\n",
       "    .dataframe tbody tr th {\n",
       "        vertical-align: top;\n",
       "    }\n",
       "\n",
       "    .dataframe thead th {\n",
       "        text-align: right;\n",
       "    }\n",
       "</style>\n",
       "<table border=\"1\" class=\"dataframe\">\n",
       "  <thead>\n",
       "    <tr style=\"text-align: right;\">\n",
       "      <th></th>\n",
       "      <th>make</th>\n",
       "      <th>city08</th>\n",
       "    </tr>\n",
       "  </thead>\n",
       "  <tbody>\n",
       "    <tr>\n",
       "      <th>10</th>\n",
       "      <td>Toyota</td>\n",
       "      <td>23</td>\n",
       "    </tr>\n",
       "    <tr>\n",
       "      <th>11</th>\n",
       "      <td>Volkswagen</td>\n",
       "      <td>18</td>\n",
       "    </tr>\n",
       "    <tr>\n",
       "      <th>12</th>\n",
       "      <td>Volkswagen</td>\n",
       "      <td>21</td>\n",
       "    </tr>\n",
       "    <tr>\n",
       "      <th>13</th>\n",
       "      <td>Volkswagen</td>\n",
       "      <td>18</td>\n",
       "    </tr>\n",
       "    <tr>\n",
       "      <th>14</th>\n",
       "      <td>Dodge</td>\n",
       "      <td>12</td>\n",
       "    </tr>\n",
       "    <tr>\n",
       "      <th>...</th>\n",
       "      <td>...</td>\n",
       "      <td>...</td>\n",
       "    </tr>\n",
       "    <tr>\n",
       "      <th>105</th>\n",
       "      <td>Toyota</td>\n",
       "      <td>16</td>\n",
       "    </tr>\n",
       "    <tr>\n",
       "      <th>106</th>\n",
       "      <td>Toyota</td>\n",
       "      <td>16</td>\n",
       "    </tr>\n",
       "    <tr>\n",
       "      <th>107</th>\n",
       "      <td>Volkswagen</td>\n",
       "      <td>18</td>\n",
       "    </tr>\n",
       "    <tr>\n",
       "      <th>108</th>\n",
       "      <td>Volkswagen</td>\n",
       "      <td>18</td>\n",
       "    </tr>\n",
       "    <tr>\n",
       "      <th>109</th>\n",
       "      <td>Volkswagen</td>\n",
       "      <td>15</td>\n",
       "    </tr>\n",
       "  </tbody>\n",
       "</table>\n",
       "<p>100 rows × 2 columns</p>\n",
       "</div>"
      ],
      "text/plain": [
       "           make  city08\n",
       "10       Toyota      23\n",
       "11   Volkswagen      18\n",
       "12   Volkswagen      21\n",
       "13   Volkswagen      18\n",
       "14        Dodge      12\n",
       "..          ...     ...\n",
       "105      Toyota      16\n",
       "106      Toyota      16\n",
       "107  Volkswagen      18\n",
       "108  Volkswagen      18\n",
       "109  Volkswagen      15\n",
       "\n",
       "[100 rows x 2 columns]"
      ]
     },
     "execution_count": 113,
     "metadata": {},
     "output_type": "execute_result"
    }
   ],
   "source": [
    "s2.iloc[10:110,:]"
   ]
  },
  {
   "cell_type": "markdown",
   "id": "dcacbc04",
   "metadata": {},
   "source": [
    "8) Using `s2`, create a series with values with index entries `'20'`, `'10'`, and `'2'`."
   ]
  },
  {
   "cell_type": "code",
   "execution_count": 114,
   "id": "070dab16",
   "metadata": {},
   "outputs": [
    {
     "data": {
      "text/html": [
       "<div>\n",
       "<style scoped>\n",
       "    .dataframe tbody tr th:only-of-type {\n",
       "        vertical-align: middle;\n",
       "    }\n",
       "\n",
       "    .dataframe tbody tr th {\n",
       "        vertical-align: top;\n",
       "    }\n",
       "\n",
       "    .dataframe thead th {\n",
       "        text-align: right;\n",
       "    }\n",
       "</style>\n",
       "<table border=\"1\" class=\"dataframe\">\n",
       "  <thead>\n",
       "    <tr style=\"text-align: right;\">\n",
       "      <th></th>\n",
       "      <th>make</th>\n",
       "      <th>city08</th>\n",
       "    </tr>\n",
       "  </thead>\n",
       "  <tbody>\n",
       "    <tr>\n",
       "      <th>20</th>\n",
       "      <td>BMW</td>\n",
       "      <td>14</td>\n",
       "    </tr>\n",
       "    <tr>\n",
       "      <th>10</th>\n",
       "      <td>Toyota</td>\n",
       "      <td>23</td>\n",
       "    </tr>\n",
       "    <tr>\n",
       "      <th>2</th>\n",
       "      <td>Dodge</td>\n",
       "      <td>23</td>\n",
       "    </tr>\n",
       "  </tbody>\n",
       "</table>\n",
       "</div>"
      ],
      "text/plain": [
       "      make  city08\n",
       "20     BMW      14\n",
       "10  Toyota      23\n",
       "2    Dodge      23"
      ]
     },
     "execution_count": 114,
     "metadata": {},
     "output_type": "execute_result"
    }
   ],
   "source": [
    "s2.loc[[\"20\", \"10\", \"2\"],:]"
   ]
  },
  {
   "cell_type": "markdown",
   "id": "a1eabd60-692d-4b13-94ed-4c72a0336424",
   "metadata": {
    "tags": []
   },
   "source": [
    "<a id='P11'></a>\n",
    "## [Chapter 11: String Manipulation](#P0)"
   ]
  },
  {
   "cell_type": "markdown",
   "id": "7baa7b2e-096c-44c3-a3e6-e04872a91282",
   "metadata": {},
   "source": [
    "### Notes"
   ]
  },
  {
   "cell_type": "markdown",
   "id": "a5430899-f873-49cd-8bd7-08b59583ab5c",
   "metadata": {},
   "source": [
    "Most string manipulation methods are available for both string and category data types. Using the category type is more memory efficient, though."
   ]
  },
  {
   "cell_type": "code",
   "execution_count": 115,
   "id": "160e5c95-b0bb-42a3-a33e-63cd33dd97fa",
   "metadata": {},
   "outputs": [
    {
     "data": {
      "text/plain": [
       "0        alfa romeo\n",
       "1           ferrari\n",
       "2             dodge\n",
       "3             dodge\n",
       "4            subaru\n",
       "            ...    \n",
       "41139        subaru\n",
       "41140        subaru\n",
       "41141        subaru\n",
       "41142        subaru\n",
       "41143        subaru\n",
       "Name: make, Length: 41144, dtype: object"
      ]
     },
     "execution_count": 115,
     "metadata": {},
     "output_type": "execute_result"
    }
   ],
   "source": [
    "make = df[\"make\"]\n",
    "make.str.lower()"
   ]
  },
  {
   "cell_type": "code",
   "execution_count": 116,
   "id": "037b7a0d-fd3d-485e-ab54-80eb5fc70703",
   "metadata": {},
   "outputs": [
    {
     "data": {
      "text/plain": [
       "0       -1\n",
       "1       -1\n",
       "2       -1\n",
       "3       -1\n",
       "4        1\n",
       "        ..\n",
       "41139    1\n",
       "41140    1\n",
       "41141    1\n",
       "41142    1\n",
       "41143    1\n",
       "Name: make, Length: 41144, dtype: int64"
      ]
     },
     "execution_count": 116,
     "metadata": {},
     "output_type": "execute_result"
    }
   ],
   "source": [
    "make.str.find(\"ub\")"
   ]
  },
  {
   "cell_type": "code",
   "execution_count": 117,
   "id": "5dff3517-c0aa-4831-bfe1-f83e94df385d",
   "metadata": {},
   "outputs": [
    {
     "data": {
      "text/plain": [
       "0         True\n",
       "1        False\n",
       "2        False\n",
       "3        False\n",
       "4        False\n",
       "         ...  \n",
       "41139    False\n",
       "41140    False\n",
       "41141    False\n",
       "41142    False\n",
       "41143    False\n",
       "Name: make, Length: 41144, dtype: bool"
      ]
     },
     "execution_count": 117,
     "metadata": {},
     "output_type": "execute_result"
    }
   ],
   "source": [
    "make.str.startswith(\"Al\")"
   ]
  },
  {
   "cell_type": "markdown",
   "id": "6519dfbc-0da4-4c1c-be00-b0ac2bab6bc6",
   "metadata": {},
   "source": [
    "String methods in pandas work much the same way as string methods in Python in general. It is also possible to combine regex with pandas string methods."
   ]
  },
  {
   "cell_type": "code",
   "execution_count": 118,
   "id": "56e4fb5c-d5e4-432a-b547-2e6af8c8be37",
   "metadata": {},
   "outputs": [
    {
     "data": {
      "text/html": [
       "<div>\n",
       "<style scoped>\n",
       "    .dataframe tbody tr th:only-of-type {\n",
       "        vertical-align: middle;\n",
       "    }\n",
       "\n",
       "    .dataframe tbody tr th {\n",
       "        vertical-align: top;\n",
       "    }\n",
       "\n",
       "    .dataframe thead th {\n",
       "        text-align: right;\n",
       "    }\n",
       "</style>\n",
       "<table border=\"1\" class=\"dataframe\">\n",
       "  <thead>\n",
       "    <tr style=\"text-align: right;\">\n",
       "      <th></th>\n",
       "      <th>0</th>\n",
       "    </tr>\n",
       "  </thead>\n",
       "  <tbody>\n",
       "    <tr>\n",
       "      <th>0</th>\n",
       "      <td>A</td>\n",
       "    </tr>\n",
       "    <tr>\n",
       "      <th>1</th>\n",
       "      <td>F</td>\n",
       "    </tr>\n",
       "    <tr>\n",
       "      <th>2</th>\n",
       "      <td>D</td>\n",
       "    </tr>\n",
       "    <tr>\n",
       "      <th>3</th>\n",
       "      <td>D</td>\n",
       "    </tr>\n",
       "    <tr>\n",
       "      <th>4</th>\n",
       "      <td>S</td>\n",
       "    </tr>\n",
       "  </tbody>\n",
       "</table>\n",
       "</div>"
      ],
      "text/plain": [
       "   0\n",
       "0  A\n",
       "1  F\n",
       "2  D\n",
       "3  D\n",
       "4  S"
      ]
     },
     "execution_count": 118,
     "metadata": {},
     "output_type": "execute_result"
    }
   ],
   "source": [
    "make.str.extract(r'([^a-z])').head()  # Remove all lower case characters"
   ]
  },
  {
   "cell_type": "code",
   "execution_count": 120,
   "id": "841bd935-31ea-4fa8-a1c0-35d849db6795",
   "metadata": {},
   "outputs": [
    {
     "data": {
      "text/plain": [
       "/    4\n",
       "Name: city08, dtype: int64"
      ]
     },
     "execution_count": 120,
     "metadata": {},
     "output_type": "execute_result"
    }
   ],
   "source": [
    "# Look for non-numeric characters in a numeric column (-> clean them)\n",
    "\n",
    "new_city = copy.deepcopy(df[\"city08\"])\n",
    "new_city.iloc[[1, 44, 56, 100],] = \"/-6\"\n",
    "new_city.str.extract(r'([^0-9.])', expand=False).value_counts()"
   ]
  },
  {
   "cell_type": "markdown",
   "id": "ec3de8e3-67e6-48e0-9600-d73bf48cf878",
   "metadata": {},
   "source": [
    "- splitting binned values (e.g. from survey data):"
   ]
  },
  {
   "cell_type": "code",
   "execution_count": 121,
   "id": "d5723171-a769-454b-879f-8f37cb6405d1",
   "metadata": {},
   "outputs": [
    {
     "data": {
      "text/plain": [
       "0     0\n",
       "1    20\n",
       "2    20\n",
       "3    60\n",
       "4    40\n",
       "5    20\n",
       "6    10\n",
       "7    40\n",
       "8    30\n",
       "Name: 0, dtype: int64"
      ]
     },
     "execution_count": 121,
     "metadata": {},
     "output_type": "execute_result"
    }
   ],
   "source": [
    "age = pd.Series([\"0-10\", \"20-30\", \"20-30\", \"60-70\", \"40-50\", \"20-30\", \"10-20\", \"40-50\", \"30-40\"])\n",
    "age.str.split(\"-\", expand=True).iloc[:,0].astype(int)  # Take the lower boundary"
   ]
  },
  {
   "cell_type": "code",
   "execution_count": 122,
   "id": "06f812ad-acb4-4fdd-8ea4-c5ff58b3f590",
   "metadata": {},
   "outputs": [
    {
     "data": {
      "text/plain": [
       "0     5.0\n",
       "1    25.0\n",
       "2    25.0\n",
       "3    65.0\n",
       "4    45.0\n",
       "5    25.0\n",
       "6    15.0\n",
       "7    45.0\n",
       "8    35.0\n",
       "dtype: float64"
      ]
     },
     "execution_count": 122,
     "metadata": {},
     "output_type": "execute_result"
    }
   ],
   "source": [
    "age.str.split(\"-\", expand=True).astype(int).mean(axis=\"columns\")   # Take the mean of each bin"
   ]
  },
  {
   "cell_type": "markdown",
   "id": "38a47fac-7849-41e7-b665-2a7a0d03444c",
   "metadata": {},
   "source": [
    "**How to make `.apply()` less slow?**\n",
    "\n",
    "- transform pandas series into numpy arrays\n",
    "- use cython\n",
    "- explicitly define data types"
   ]
  },
  {
   "cell_type": "markdown",
   "id": "4988a502-97f2-4d9d-931b-c64453b0a150",
   "metadata": {},
   "source": [
    "What is the difference between `.str.replace()` and `.replace()`?"
   ]
  },
  {
   "cell_type": "code",
   "execution_count": 125,
   "id": "abcd34b3-15b9-49f7-89a7-1983d68df758",
   "metadata": {},
   "outputs": [
    {
     "data": {
      "text/plain": [
       "0    Älfa Romeo\n",
       "1       Ferrari\n",
       "2         Dodge\n",
       "3         Dodge\n",
       "4        Subaru\n",
       "Name: make, dtype: object"
      ]
     },
     "execution_count": 125,
     "metadata": {},
     "output_type": "execute_result"
    }
   ],
   "source": [
    "make.str.replace(\"A\", \"Ä\").head()  # This looks for 'A' in each string."
   ]
  },
  {
   "cell_type": "code",
   "execution_count": 126,
   "id": "b77ec68d-ef48-4cdd-b49d-7e22913c6e93",
   "metadata": {},
   "outputs": [
    {
     "data": {
      "text/plain": [
       "0    Alfa Romeo\n",
       "1       Ferrari\n",
       "2         Dodge\n",
       "3         Dodge\n",
       "4        Subaru\n",
       "Name: make, dtype: object"
      ]
     },
     "execution_count": 126,
     "metadata": {},
     "output_type": "execute_result"
    }
   ],
   "source": [
    "make.replace(\"A\", \"Ä\").head()   # This looks for a string 'A'."
   ]
  },
  {
   "cell_type": "code",
   "execution_count": 129,
   "id": "c1a7fa2a-db5e-4443-b0ef-29567be8b2ec",
   "metadata": {},
   "outputs": [
    {
     "data": {
      "text/plain": [
       "0        Älfa Romeo\n",
       "1           Ferrari\n",
       "2             Dodge\n",
       "3             Dodge\n",
       "4            Subaru\n",
       "            ...    \n",
       "41139        Subaru\n",
       "41140        Subaru\n",
       "41141        Subaru\n",
       "41142        Subaru\n",
       "41143        Subaru\n",
       "Name: make, Length: 41144, dtype: object"
      ]
     },
     "execution_count": 129,
     "metadata": {},
     "output_type": "execute_result"
    }
   ],
   "source": [
    "make.replace(\"A\", \"Ä\", regex=True)"
   ]
  },
  {
   "cell_type": "code",
   "execution_count": 128,
   "id": "092e1da9-bd01-43aa-bde9-d3186604bab6",
   "metadata": {},
   "outputs": [
    {
     "data": {
      "text/plain": [
       "0        Älfa Romeo\n",
       "1           Ferrari\n",
       "2             Dodge\n",
       "3             Dodge\n",
       "4            Subaru\n",
       "            ...    \n",
       "41139        Subaru\n",
       "41140        Subaru\n",
       "41141        Subaru\n",
       "41142        Subaru\n",
       "41143        Subaru\n",
       "Name: make, Length: 41144, dtype: object"
      ]
     },
     "execution_count": 128,
     "metadata": {},
     "output_type": "execute_result"
    }
   ],
   "source": [
    "make.replace(\"Alfa Romeo\", \"Älfa Romeo\")   # This method works with a dictionary as well."
   ]
  },
  {
   "cell_type": "markdown",
   "id": "639f1363-0253-4755-be6a-935bafb80262",
   "metadata": {},
   "source": [
    "There are many other less well-known string operations in pandas. However, string methods are generally slow in pandas, because they are not vectorized."
   ]
  },
  {
   "cell_type": "code",
   "execution_count": 132,
   "id": "c7d6cc2f-5d40-4b8c-a58b-9ab11ef2809b",
   "metadata": {},
   "outputs": [
    {
     "data": {
      "text/plain": [
       "0        Alfa Romeo\n",
       "1        -Ferrari--\n",
       "2        --Dodge---\n",
       "3        --Dodge---\n",
       "4        --Subaru--\n",
       "            ...    \n",
       "41139    --Subaru--\n",
       "41140    --Subaru--\n",
       "41141    --Subaru--\n",
       "41142    --Subaru--\n",
       "41143    --Subaru--\n",
       "Name: make, Length: 41144, dtype: object"
      ]
     },
     "execution_count": 132,
     "metadata": {},
     "output_type": "execute_result"
    }
   ],
   "source": [
    "make.str.center(10, fillchar=\"-\")"
   ]
  },
  {
   "cell_type": "code",
   "execution_count": 137,
   "id": "fc7cb36c-45b3-42e3-9928-0f1a03c1de61",
   "metadata": {},
   "outputs": [
    {
     "data": {
      "text/plain": [
       "'Alfa Romeo *-* Ferrari *-* Dodge *-* Dodge *-* Subaru *-* Subaru *-* Subaru *-* Toyota *-* Toyota *-* Toyota *-* Toyota'"
      ]
     },
     "execution_count": 137,
     "metadata": {},
     "output_type": "execute_result"
    }
   ],
   "source": [
    "make.loc[:10].str.cat(sep=\" *-* \")"
   ]
  },
  {
   "cell_type": "code",
   "execution_count": 139,
   "id": "5f63a27c-c047-44a2-bd2d-ee6d94d1dc30",
   "metadata": {},
   "outputs": [
    {
     "data": {
      "text/plain": [
       "0         \n",
       "1        a\n",
       "2        e\n",
       "3        e\n",
       "4        r\n",
       "        ..\n",
       "41139    r\n",
       "41140    r\n",
       "41141    r\n",
       "41142    r\n",
       "41143    r\n",
       "Name: make, Length: 41144, dtype: object"
      ]
     },
     "execution_count": 139,
     "metadata": {},
     "output_type": "execute_result"
    }
   ],
   "source": [
    "make.str.get(4)"
   ]
  },
  {
   "cell_type": "code",
   "execution_count": 142,
   "id": "d9873403-d1fb-457a-b1cc-4c623ca75ec9",
   "metadata": {},
   "outputs": [
    {
     "data": {
      "text/html": [
       "<div>\n",
       "<style scoped>\n",
       "    .dataframe tbody tr th:only-of-type {\n",
       "        vertical-align: middle;\n",
       "    }\n",
       "\n",
       "    .dataframe tbody tr th {\n",
       "        vertical-align: top;\n",
       "    }\n",
       "\n",
       "    .dataframe thead th {\n",
       "        text-align: right;\n",
       "    }\n",
       "</style>\n",
       "<table border=\"1\" class=\"dataframe\">\n",
       "  <thead>\n",
       "    <tr style=\"text-align: right;\">\n",
       "      <th></th>\n",
       "      <th>0</th>\n",
       "      <th>1</th>\n",
       "      <th>2</th>\n",
       "    </tr>\n",
       "  </thead>\n",
       "  <tbody>\n",
       "    <tr>\n",
       "      <th>0</th>\n",
       "      <td>Alfa</td>\n",
       "      <td></td>\n",
       "      <td>Romeo</td>\n",
       "    </tr>\n",
       "    <tr>\n",
       "      <th>1</th>\n",
       "      <td>Ferrari</td>\n",
       "      <td></td>\n",
       "      <td></td>\n",
       "    </tr>\n",
       "    <tr>\n",
       "      <th>2</th>\n",
       "      <td>Dodge</td>\n",
       "      <td></td>\n",
       "      <td></td>\n",
       "    </tr>\n",
       "    <tr>\n",
       "      <th>3</th>\n",
       "      <td>Dodge</td>\n",
       "      <td></td>\n",
       "      <td></td>\n",
       "    </tr>\n",
       "    <tr>\n",
       "      <th>4</th>\n",
       "      <td>Subaru</td>\n",
       "      <td></td>\n",
       "      <td></td>\n",
       "    </tr>\n",
       "    <tr>\n",
       "      <th>...</th>\n",
       "      <td>...</td>\n",
       "      <td>...</td>\n",
       "      <td>...</td>\n",
       "    </tr>\n",
       "    <tr>\n",
       "      <th>41139</th>\n",
       "      <td>Subaru</td>\n",
       "      <td></td>\n",
       "      <td></td>\n",
       "    </tr>\n",
       "    <tr>\n",
       "      <th>41140</th>\n",
       "      <td>Subaru</td>\n",
       "      <td></td>\n",
       "      <td></td>\n",
       "    </tr>\n",
       "    <tr>\n",
       "      <th>41141</th>\n",
       "      <td>Subaru</td>\n",
       "      <td></td>\n",
       "      <td></td>\n",
       "    </tr>\n",
       "    <tr>\n",
       "      <th>41142</th>\n",
       "      <td>Subaru</td>\n",
       "      <td></td>\n",
       "      <td></td>\n",
       "    </tr>\n",
       "    <tr>\n",
       "      <th>41143</th>\n",
       "      <td>Subaru</td>\n",
       "      <td></td>\n",
       "      <td></td>\n",
       "    </tr>\n",
       "  </tbody>\n",
       "</table>\n",
       "<p>41144 rows × 3 columns</p>\n",
       "</div>"
      ],
      "text/plain": [
       "             0  1      2\n",
       "0         Alfa     Romeo\n",
       "1      Ferrari          \n",
       "2        Dodge          \n",
       "3        Dodge          \n",
       "4       Subaru          \n",
       "...        ... ..    ...\n",
       "41139   Subaru          \n",
       "41140   Subaru          \n",
       "41141   Subaru          \n",
       "41142   Subaru          \n",
       "41143   Subaru          \n",
       "\n",
       "[41144 rows x 3 columns]"
      ]
     },
     "execution_count": 142,
     "metadata": {},
     "output_type": "execute_result"
    }
   ],
   "source": [
    "make.str.partition(\" \")"
   ]
  },
  {
   "cell_type": "markdown",
   "id": "e9f4d751-aaf2-4c63-99f6-3e94d0f48e7d",
   "metadata": {},
   "source": [
    "### Exercises"
   ]
  },
  {
   "cell_type": "markdown",
   "id": "44a94c1f-397b-4506-8000-f8de43d2d54f",
   "metadata": {},
   "source": [
    "With a dataset of your choice:"
   ]
  },
  {
   "cell_type": "markdown",
   "id": "3f949d22-886f-472e-979e-ad419660e4f2",
   "metadata": {},
   "source": [
    "1. Using a string column, lowercase the values."
   ]
  },
  {
   "cell_type": "code",
   "execution_count": 143,
   "id": "d86857c9-59d9-461a-ac44-e7b1af40a4c1",
   "metadata": {},
   "outputs": [
    {
     "data": {
      "text/plain": [
       "0        alfa romeo\n",
       "1           ferrari\n",
       "2             dodge\n",
       "3             dodge\n",
       "4            subaru\n",
       "            ...    \n",
       "41139        subaru\n",
       "41140        subaru\n",
       "41141        subaru\n",
       "41142        subaru\n",
       "41143        subaru\n",
       "Name: make, Length: 41144, dtype: object"
      ]
     },
     "execution_count": 143,
     "metadata": {},
     "output_type": "execute_result"
    }
   ],
   "source": [
    "make.str.lower()"
   ]
  },
  {
   "cell_type": "markdown",
   "id": "bf59f7b0-61b5-4598-be20-f9ac0017541a",
   "metadata": {},
   "source": [
    "2. Using a string column, slice out the first character."
   ]
  },
  {
   "cell_type": "code",
   "execution_count": 148,
   "id": "1c385d1f-15f0-45a7-a28f-9ef1423ae2ed",
   "metadata": {},
   "outputs": [
    {
     "data": {
      "text/plain": [
       "0        A\n",
       "1        F\n",
       "2        D\n",
       "3        D\n",
       "4        S\n",
       "        ..\n",
       "41139    S\n",
       "41140    S\n",
       "41141    S\n",
       "41142    S\n",
       "41143    S\n",
       "Name: make, Length: 41144, dtype: object"
      ]
     },
     "execution_count": 148,
     "metadata": {},
     "output_type": "execute_result"
    }
   ],
   "source": [
    "make.str.slice(0, 1)"
   ]
  },
  {
   "cell_type": "markdown",
   "id": "a85cf6f7-5603-478c-bf28-c10cb81d7f6b",
   "metadata": {},
   "source": [
    "3. Using a string column, slice out the last three characters."
   ]
  },
  {
   "cell_type": "code",
   "execution_count": 152,
   "id": "0e8c5446-25e4-4ed0-8bc8-525f98256386",
   "metadata": {},
   "outputs": [
    {
     "data": {
      "text/plain": [
       "0        meo\n",
       "1        ari\n",
       "2        dge\n",
       "3        dge\n",
       "4        aru\n",
       "        ... \n",
       "41139    aru\n",
       "41140    aru\n",
       "41141    aru\n",
       "41142    aru\n",
       "41143    aru\n",
       "Name: make, Length: 41144, dtype: object"
      ]
     },
     "execution_count": 152,
     "metadata": {},
     "output_type": "execute_result"
    }
   ],
   "source": [
    "make.str.slice(-3)"
   ]
  },
  {
   "cell_type": "markdown",
   "id": "44645f87-1be0-4e64-9bd6-7a6843a5db80",
   "metadata": {},
   "source": [
    "4. Using a string column, create a series extracting the numeric values."
   ]
  },
  {
   "cell_type": "code",
   "execution_count": 166,
   "id": "ac6f5e01-4f28-4db3-9c69-2efa70843dba",
   "metadata": {},
   "outputs": [
    {
     "data": {
      "text/plain": [
       "4    8366\n",
       "2     507\n",
       "Name: drive, dtype: int64"
      ]
     },
     "execution_count": 166,
     "metadata": {},
     "output_type": "execute_result"
    }
   ],
   "source": [
    "drive = df[\"drive\"]\n",
    "drive.str.extract(r'([^a-zA-Z- ])', expand=False).value_counts()"
   ]
  },
  {
   "cell_type": "markdown",
   "id": "7b7adec2-3eb4-4a0e-aff1-57464e376db0",
   "metadata": {},
   "source": [
    "5. Using a string column, create a series extracting the non-ASCII values."
   ]
  },
  {
   "cell_type": "code",
   "execution_count": 174,
   "id": "64a895eb-86ae-468f-a485-6c591174d506",
   "metadata": {},
   "outputs": [
    {
     "data": {
      "text/plain": [
       "0                  Rear-Wheel Drive\n",
       "1                  Rear-Wheel Drive\n",
       "2                 Front-Wheel Drive\n",
       "3                  Rear-Wheel Drive\n",
       "4        4-Wheel or All-Wheel Drive\n",
       "                    ...            \n",
       "41139             Front-Wheel Drive\n",
       "41140             Front-Wheel Drive\n",
       "41141    4-Wheel or All-Wheel Drive\n",
       "41142    4-Wheel or All-Wheel Drive\n",
       "41143    4-Wheel or All-Wheel Drive\n",
       "Name: drive, Length: 41144, dtype: object"
      ]
     },
     "execution_count": 174,
     "metadata": {},
     "output_type": "execute_result"
    }
   ],
   "source": [
    "drive"
   ]
  },
  {
   "cell_type": "code",
   "execution_count": 199,
   "id": "668052fe-e54d-4b3c-b409-7da22b9c23d5",
   "metadata": {},
   "outputs": [
    {
     "data": {
      "text/plain": [
       "     53509\n",
       "-    46861\n",
       "%    19326\n",
       "$     9663\n",
       "à     9663\n",
       "ä     9663\n",
       "dtype: int64"
      ]
     },
     "execution_count": 199,
     "metadata": {},
     "output_type": "execute_result"
    }
   ],
   "source": [
    "drive2 = df[\"drive\"]\n",
    "drive2 = drive2.str.replace(\"A\", \"à%%$ä\")\n",
    "\n",
    "drive2.str.extractall(r'([^x00-x7F])').value_counts()"
   ]
  },
  {
   "cell_type": "markdown",
   "id": "aba7f573-889a-47e1-8248-388db4582dbb",
   "metadata": {},
   "source": [
    "6. Using a string column, create a dataframe with the dummy columns for every character in the column."
   ]
  },
  {
   "cell_type": "code",
   "execution_count": 201,
   "id": "738376ff-3e50-4ed1-b35f-ac605936c147",
   "metadata": {},
   "outputs": [
    {
     "data": {
      "text/html": [
       "<div>\n",
       "<style scoped>\n",
       "    .dataframe tbody tr th:only-of-type {\n",
       "        vertical-align: middle;\n",
       "    }\n",
       "\n",
       "    .dataframe tbody tr th {\n",
       "        vertical-align: top;\n",
       "    }\n",
       "\n",
       "    .dataframe thead th {\n",
       "        text-align: right;\n",
       "    }\n",
       "</style>\n",
       "<table border=\"1\" class=\"dataframe\">\n",
       "  <thead>\n",
       "    <tr style=\"text-align: right;\">\n",
       "      <th></th>\n",
       "      <th>AM General</th>\n",
       "      <th>ASC Incorporated</th>\n",
       "      <th>Acura</th>\n",
       "      <th>Alfa Romeo</th>\n",
       "      <th>American Motors Corporation</th>\n",
       "      <th>Aston Martin</th>\n",
       "      <th>Audi</th>\n",
       "      <th>Aurora Cars Ltd</th>\n",
       "      <th>Autokraft Limited</th>\n",
       "      <th>Avanti Motor Corporation</th>\n",
       "      <th>...</th>\n",
       "      <th>Toyota</th>\n",
       "      <th>VPG</th>\n",
       "      <th>Vector</th>\n",
       "      <th>Vixen Motor Company</th>\n",
       "      <th>Volga Associated Automobile</th>\n",
       "      <th>Volkswagen</th>\n",
       "      <th>Volvo</th>\n",
       "      <th>Wallace Environmental</th>\n",
       "      <th>Yugo</th>\n",
       "      <th>smart</th>\n",
       "    </tr>\n",
       "  </thead>\n",
       "  <tbody>\n",
       "    <tr>\n",
       "      <th>0</th>\n",
       "      <td>0</td>\n",
       "      <td>0</td>\n",
       "      <td>0</td>\n",
       "      <td>1</td>\n",
       "      <td>0</td>\n",
       "      <td>0</td>\n",
       "      <td>0</td>\n",
       "      <td>0</td>\n",
       "      <td>0</td>\n",
       "      <td>0</td>\n",
       "      <td>...</td>\n",
       "      <td>0</td>\n",
       "      <td>0</td>\n",
       "      <td>0</td>\n",
       "      <td>0</td>\n",
       "      <td>0</td>\n",
       "      <td>0</td>\n",
       "      <td>0</td>\n",
       "      <td>0</td>\n",
       "      <td>0</td>\n",
       "      <td>0</td>\n",
       "    </tr>\n",
       "    <tr>\n",
       "      <th>1</th>\n",
       "      <td>0</td>\n",
       "      <td>0</td>\n",
       "      <td>0</td>\n",
       "      <td>0</td>\n",
       "      <td>0</td>\n",
       "      <td>0</td>\n",
       "      <td>0</td>\n",
       "      <td>0</td>\n",
       "      <td>0</td>\n",
       "      <td>0</td>\n",
       "      <td>...</td>\n",
       "      <td>0</td>\n",
       "      <td>0</td>\n",
       "      <td>0</td>\n",
       "      <td>0</td>\n",
       "      <td>0</td>\n",
       "      <td>0</td>\n",
       "      <td>0</td>\n",
       "      <td>0</td>\n",
       "      <td>0</td>\n",
       "      <td>0</td>\n",
       "    </tr>\n",
       "    <tr>\n",
       "      <th>2</th>\n",
       "      <td>0</td>\n",
       "      <td>0</td>\n",
       "      <td>0</td>\n",
       "      <td>0</td>\n",
       "      <td>0</td>\n",
       "      <td>0</td>\n",
       "      <td>0</td>\n",
       "      <td>0</td>\n",
       "      <td>0</td>\n",
       "      <td>0</td>\n",
       "      <td>...</td>\n",
       "      <td>0</td>\n",
       "      <td>0</td>\n",
       "      <td>0</td>\n",
       "      <td>0</td>\n",
       "      <td>0</td>\n",
       "      <td>0</td>\n",
       "      <td>0</td>\n",
       "      <td>0</td>\n",
       "      <td>0</td>\n",
       "      <td>0</td>\n",
       "    </tr>\n",
       "    <tr>\n",
       "      <th>3</th>\n",
       "      <td>0</td>\n",
       "      <td>0</td>\n",
       "      <td>0</td>\n",
       "      <td>0</td>\n",
       "      <td>0</td>\n",
       "      <td>0</td>\n",
       "      <td>0</td>\n",
       "      <td>0</td>\n",
       "      <td>0</td>\n",
       "      <td>0</td>\n",
       "      <td>...</td>\n",
       "      <td>0</td>\n",
       "      <td>0</td>\n",
       "      <td>0</td>\n",
       "      <td>0</td>\n",
       "      <td>0</td>\n",
       "      <td>0</td>\n",
       "      <td>0</td>\n",
       "      <td>0</td>\n",
       "      <td>0</td>\n",
       "      <td>0</td>\n",
       "    </tr>\n",
       "    <tr>\n",
       "      <th>4</th>\n",
       "      <td>0</td>\n",
       "      <td>0</td>\n",
       "      <td>0</td>\n",
       "      <td>0</td>\n",
       "      <td>0</td>\n",
       "      <td>0</td>\n",
       "      <td>0</td>\n",
       "      <td>0</td>\n",
       "      <td>0</td>\n",
       "      <td>0</td>\n",
       "      <td>...</td>\n",
       "      <td>0</td>\n",
       "      <td>0</td>\n",
       "      <td>0</td>\n",
       "      <td>0</td>\n",
       "      <td>0</td>\n",
       "      <td>0</td>\n",
       "      <td>0</td>\n",
       "      <td>0</td>\n",
       "      <td>0</td>\n",
       "      <td>0</td>\n",
       "    </tr>\n",
       "    <tr>\n",
       "      <th>...</th>\n",
       "      <td>...</td>\n",
       "      <td>...</td>\n",
       "      <td>...</td>\n",
       "      <td>...</td>\n",
       "      <td>...</td>\n",
       "      <td>...</td>\n",
       "      <td>...</td>\n",
       "      <td>...</td>\n",
       "      <td>...</td>\n",
       "      <td>...</td>\n",
       "      <td>...</td>\n",
       "      <td>...</td>\n",
       "      <td>...</td>\n",
       "      <td>...</td>\n",
       "      <td>...</td>\n",
       "      <td>...</td>\n",
       "      <td>...</td>\n",
       "      <td>...</td>\n",
       "      <td>...</td>\n",
       "      <td>...</td>\n",
       "      <td>...</td>\n",
       "    </tr>\n",
       "    <tr>\n",
       "      <th>41139</th>\n",
       "      <td>0</td>\n",
       "      <td>0</td>\n",
       "      <td>0</td>\n",
       "      <td>0</td>\n",
       "      <td>0</td>\n",
       "      <td>0</td>\n",
       "      <td>0</td>\n",
       "      <td>0</td>\n",
       "      <td>0</td>\n",
       "      <td>0</td>\n",
       "      <td>...</td>\n",
       "      <td>0</td>\n",
       "      <td>0</td>\n",
       "      <td>0</td>\n",
       "      <td>0</td>\n",
       "      <td>0</td>\n",
       "      <td>0</td>\n",
       "      <td>0</td>\n",
       "      <td>0</td>\n",
       "      <td>0</td>\n",
       "      <td>0</td>\n",
       "    </tr>\n",
       "    <tr>\n",
       "      <th>41140</th>\n",
       "      <td>0</td>\n",
       "      <td>0</td>\n",
       "      <td>0</td>\n",
       "      <td>0</td>\n",
       "      <td>0</td>\n",
       "      <td>0</td>\n",
       "      <td>0</td>\n",
       "      <td>0</td>\n",
       "      <td>0</td>\n",
       "      <td>0</td>\n",
       "      <td>...</td>\n",
       "      <td>0</td>\n",
       "      <td>0</td>\n",
       "      <td>0</td>\n",
       "      <td>0</td>\n",
       "      <td>0</td>\n",
       "      <td>0</td>\n",
       "      <td>0</td>\n",
       "      <td>0</td>\n",
       "      <td>0</td>\n",
       "      <td>0</td>\n",
       "    </tr>\n",
       "    <tr>\n",
       "      <th>41141</th>\n",
       "      <td>0</td>\n",
       "      <td>0</td>\n",
       "      <td>0</td>\n",
       "      <td>0</td>\n",
       "      <td>0</td>\n",
       "      <td>0</td>\n",
       "      <td>0</td>\n",
       "      <td>0</td>\n",
       "      <td>0</td>\n",
       "      <td>0</td>\n",
       "      <td>...</td>\n",
       "      <td>0</td>\n",
       "      <td>0</td>\n",
       "      <td>0</td>\n",
       "      <td>0</td>\n",
       "      <td>0</td>\n",
       "      <td>0</td>\n",
       "      <td>0</td>\n",
       "      <td>0</td>\n",
       "      <td>0</td>\n",
       "      <td>0</td>\n",
       "    </tr>\n",
       "    <tr>\n",
       "      <th>41142</th>\n",
       "      <td>0</td>\n",
       "      <td>0</td>\n",
       "      <td>0</td>\n",
       "      <td>0</td>\n",
       "      <td>0</td>\n",
       "      <td>0</td>\n",
       "      <td>0</td>\n",
       "      <td>0</td>\n",
       "      <td>0</td>\n",
       "      <td>0</td>\n",
       "      <td>...</td>\n",
       "      <td>0</td>\n",
       "      <td>0</td>\n",
       "      <td>0</td>\n",
       "      <td>0</td>\n",
       "      <td>0</td>\n",
       "      <td>0</td>\n",
       "      <td>0</td>\n",
       "      <td>0</td>\n",
       "      <td>0</td>\n",
       "      <td>0</td>\n",
       "    </tr>\n",
       "    <tr>\n",
       "      <th>41143</th>\n",
       "      <td>0</td>\n",
       "      <td>0</td>\n",
       "      <td>0</td>\n",
       "      <td>0</td>\n",
       "      <td>0</td>\n",
       "      <td>0</td>\n",
       "      <td>0</td>\n",
       "      <td>0</td>\n",
       "      <td>0</td>\n",
       "      <td>0</td>\n",
       "      <td>...</td>\n",
       "      <td>0</td>\n",
       "      <td>0</td>\n",
       "      <td>0</td>\n",
       "      <td>0</td>\n",
       "      <td>0</td>\n",
       "      <td>0</td>\n",
       "      <td>0</td>\n",
       "      <td>0</td>\n",
       "      <td>0</td>\n",
       "      <td>0</td>\n",
       "    </tr>\n",
       "  </tbody>\n",
       "</table>\n",
       "<p>41144 rows × 136 columns</p>\n",
       "</div>"
      ],
      "text/plain": [
       "       AM General  ASC Incorporated  Acura  Alfa Romeo  \\\n",
       "0               0                 0      0           1   \n",
       "1               0                 0      0           0   \n",
       "2               0                 0      0           0   \n",
       "3               0                 0      0           0   \n",
       "4               0                 0      0           0   \n",
       "...           ...               ...    ...         ...   \n",
       "41139           0                 0      0           0   \n",
       "41140           0                 0      0           0   \n",
       "41141           0                 0      0           0   \n",
       "41142           0                 0      0           0   \n",
       "41143           0                 0      0           0   \n",
       "\n",
       "       American Motors Corporation  Aston Martin  Audi  Aurora Cars Ltd  \\\n",
       "0                                0             0     0                0   \n",
       "1                                0             0     0                0   \n",
       "2                                0             0     0                0   \n",
       "3                                0             0     0                0   \n",
       "4                                0             0     0                0   \n",
       "...                            ...           ...   ...              ...   \n",
       "41139                            0             0     0                0   \n",
       "41140                            0             0     0                0   \n",
       "41141                            0             0     0                0   \n",
       "41142                            0             0     0                0   \n",
       "41143                            0             0     0                0   \n",
       "\n",
       "       Autokraft Limited  Avanti Motor Corporation  ...  Toyota  VPG  Vector  \\\n",
       "0                      0                         0  ...       0    0       0   \n",
       "1                      0                         0  ...       0    0       0   \n",
       "2                      0                         0  ...       0    0       0   \n",
       "3                      0                         0  ...       0    0       0   \n",
       "4                      0                         0  ...       0    0       0   \n",
       "...                  ...                       ...  ...     ...  ...     ...   \n",
       "41139                  0                         0  ...       0    0       0   \n",
       "41140                  0                         0  ...       0    0       0   \n",
       "41141                  0                         0  ...       0    0       0   \n",
       "41142                  0                         0  ...       0    0       0   \n",
       "41143                  0                         0  ...       0    0       0   \n",
       "\n",
       "       Vixen Motor Company  Volga Associated Automobile  Volkswagen  Volvo  \\\n",
       "0                        0                            0           0      0   \n",
       "1                        0                            0           0      0   \n",
       "2                        0                            0           0      0   \n",
       "3                        0                            0           0      0   \n",
       "4                        0                            0           0      0   \n",
       "...                    ...                          ...         ...    ...   \n",
       "41139                    0                            0           0      0   \n",
       "41140                    0                            0           0      0   \n",
       "41141                    0                            0           0      0   \n",
       "41142                    0                            0           0      0   \n",
       "41143                    0                            0           0      0   \n",
       "\n",
       "       Wallace Environmental  Yugo  smart  \n",
       "0                          0     0      0  \n",
       "1                          0     0      0  \n",
       "2                          0     0      0  \n",
       "3                          0     0      0  \n",
       "4                          0     0      0  \n",
       "...                      ...   ...    ...  \n",
       "41139                      0     0      0  \n",
       "41140                      0     0      0  \n",
       "41141                      0     0      0  \n",
       "41142                      0     0      0  \n",
       "41143                      0     0      0  \n",
       "\n",
       "[41144 rows x 136 columns]"
      ]
     },
     "execution_count": 201,
     "metadata": {},
     "output_type": "execute_result"
    }
   ],
   "source": [
    "make.str.get_dummies()"
   ]
  },
  {
   "cell_type": "markdown",
   "id": "cd1c9419-6f1d-4a3a-9c24-f801df4471ab",
   "metadata": {},
   "source": [
    "<a id='P12'></a>\n",
    "## [Chapter 12: Date and Time Manipulation](#P0)"
   ]
  },
  {
   "cell_type": "markdown",
   "id": "c742d87f-469d-4c3e-b77b-82b7671ce018",
   "metadata": {},
   "source": [
    "### Notes"
   ]
  },
  {
   "cell_type": "code",
   "execution_count": null,
   "id": "03655023-9696-4198-99f8-107777607df6",
   "metadata": {},
   "outputs": [],
   "source": []
  },
  {
   "cell_type": "markdown",
   "id": "7c51ec33-8c4c-4e4e-b9ba-a1dd711b7084",
   "metadata": {},
   "source": [
    "### Exercises"
   ]
  },
  {
   "cell_type": "code",
   "execution_count": null,
   "id": "128a0008-0ca9-42bc-9316-cd4311c9e4dd",
   "metadata": {},
   "outputs": [],
   "source": []
  }
 ],
 "metadata": {
  "kernelspec": {
   "display_name": "effective_pandas",
   "language": "python",
   "name": "effective_pandas"
  },
  "language_info": {
   "codemirror_mode": {
    "name": "ipython",
    "version": 3
   },
   "file_extension": ".py",
   "mimetype": "text/x-python",
   "name": "python",
   "nbconvert_exporter": "python",
   "pygments_lexer": "ipython3",
   "version": "3.8.13"
  },
  "toc": {
   "base_numbering": 1,
   "nav_menu": {},
   "number_sections": true,
   "sideBar": true,
   "skip_h1_title": false,
   "title_cell": "Table of Contents",
   "title_sidebar": "Contents",
   "toc_cell": false,
   "toc_position": {},
   "toc_section_display": true,
   "toc_window_display": true
  },
  "toc-autonumbering": false,
  "toc-showtags": false
 },
 "nbformat": 4,
 "nbformat_minor": 5
}
